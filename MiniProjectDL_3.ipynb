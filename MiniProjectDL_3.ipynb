{
  "cells": [
    {
      "cell_type": "code",
      "execution_count": null,
      "metadata": {
        "id": "R28q6NNHzm_W"
      },
      "outputs": [],
      "source": [
        "# import required libraries\n",
        "import torch\n",
        "import torch.nn as nn\n",
        "import torch.nn.functional as f\n",
        "import torchvision\n",
        "import torchvision.transforms as transforms\n",
        "import torch.optim as optim\n",
        "import csv\n",
        "import torchvision.transforms as transforms\n",
        "\n",
        "#set seed for consistency and reproducibility\n",
        "torch.manual_seed(123)\n",
        "if torch.cuda.is_available:\n",
        "  torch.cuda.manual_seed_all(1234)"
      ]
    },
    {
      "cell_type": "code",
      "execution_count": null,
      "metadata": {
        "id": "Mh3N8bGPG7XG"
      },
      "outputs": [],
      "source": [
        "# Device configuration\n",
        "device = torch.device('cuda' if torch.cuda.is_available() else 'cpu')"
      ]
    },
    {
      "cell_type": "markdown",
      "metadata": {
        "id": "6pjGEXlvjMCE"
      },
      "source": [
        "Data Augmentation has been performed to increase accuracy"
      ]
    },
    {
      "cell_type": "code",
      "execution_count": null,
      "metadata": {
        "colab": {
          "base_uri": "https://localhost:8080/"
        },
        "id": "umTEDAMTbl5w",
        "outputId": "df80e8c7-4e9f-462b-9210-fd204773a572"
      },
      "outputs": [
        {
          "output_type": "stream",
          "name": "stdout",
          "text": [
            "Downloading https://www.cs.toronto.edu/~kriz/cifar-10-python.tar.gz to ./data/cifar-10-python.tar.gz\n"
          ]
        },
        {
          "output_type": "stream",
          "name": "stderr",
          "text": [
            "100%|██████████| 170498071/170498071 [00:01<00:00, 95438635.47it/s] \n"
          ]
        },
        {
          "output_type": "stream",
          "name": "stdout",
          "text": [
            "Extracting ./data/cifar-10-python.tar.gz to ./data\n",
            "Files already downloaded and verified\n"
          ]
        }
      ],
      "source": [
        "# transformation for test data - nomalizing test data\n",
        "test_transform = transforms.Compose([\n",
        "    transforms.ToTensor(),\n",
        "    transforms.Normalize((0.5, 0.5, 0.5), (0.5, 0.5, 0.5))\n",
        "])\n",
        "\n",
        "# transformation for train data \n",
        "train_transform = transforms.Compose([\n",
        "    transforms.RandomRotation(10), # Add random rotation with 10 degrees\n",
        "    transforms.ColorJitter(brightness=0.1, contrast=0.1, saturation=0.1, hue=0.1), # Add color jitter\n",
        "    transforms.RandomHorizontalFlip(), #apply horizontal flipping\n",
        "    transforms.RandomCrop(32, padding=4),\n",
        "    transforms.ToTensor(),\n",
        "    transforms.Normalize((0.5, 0.5, 0.5), (0.5, 0.5, 0.5))\n",
        "])\n",
        "\n",
        "# Create CIFAR-10 train dataset with updated data augmentation\n",
        "train_dataset = torchvision.datasets.CIFAR10(root='./data', train=True, transform=train_transform, download=True)\n",
        "\n",
        "# Create CIFAR-10 test dataset \n",
        "test_dataset = torchvision.datasets.CIFAR10(root='./data', train=False, transform=test_transform, download=True)\n",
        "\n",
        "# Create data loaders\n",
        "train_loader = torch.utils.data.DataLoader(train_dataset, batch_size=100, shuffle=True)\n",
        "test_loader = torch.utils.data.DataLoader(test_dataset, batch_size=100, shuffle=False)\n"
      ]
    },
    {
      "cell_type": "code",
      "execution_count": null,
      "metadata": {
        "id": "628WQLlZz4Ww"
      },
      "outputs": [],
      "source": [
        "class BasicBlock(nn.Module):\n",
        "    expansion = 1\n",
        "\n",
        "    def __init__(self, in_planes, planes, stride=1):\n",
        "        super(BasicBlock, self).__init__()\n",
        "        #in_planes = input chanel size\n",
        "        #planes = output chanel size\n",
        "        #convolution later 1\n",
        "        self.conv1 = nn.Conv2d(\n",
        "            in_planes, planes, kernel_size=3, stride=stride, padding=1, bias=False)\n",
        "        #batch norm 1\n",
        "        self.bn1 = nn.BatchNorm2d(planes)\n",
        "        #convolution layer 2\n",
        "        self.conv2 = nn.Conv2d(planes, planes, kernel_size=3,\n",
        "                               stride=1, padding=1, bias=False)\n",
        "        #batch norm 2\n",
        "        self.bn2 = nn.BatchNorm2d(planes)\n",
        "\n",
        "        #skip connection\n",
        "        self.shortcut = nn.Sequential()\n",
        "        if stride != 1 or in_planes != self.expansion*planes:\n",
        "            self.shortcut = nn.Sequential(\n",
        "                nn.Conv2d(in_planes, self.expansion*planes,\n",
        "                          kernel_size=1, stride=stride, bias=False),\n",
        "                nn.BatchNorm2d(self.expansion*planes)\n",
        "            )\n",
        "\n",
        "    #forward pass of res-net\n",
        "    def forward(self, x):\n",
        "        out = f.relu(self.bn1(self.conv1(x)))\n",
        "        out = self.bn2(self.conv2(out))\n",
        "        out += self.shortcut(x)\n",
        "        out = f.relu(out)\n",
        "        return out\n"
      ]
    },
    {
      "cell_type": "code",
      "execution_count": null,
      "metadata": {
        "id": "7NPcNSOW58OY"
      },
      "outputs": [],
      "source": [
        "#to edit the number of channels\n",
        "channels = [32, 64, 128, 256]"
      ]
    },
    {
      "cell_type": "markdown",
      "metadata": {
        "id": "4TTCxrYTJhAb"
      },
      "source": [
        "- Here the averge pool layer has been removed and the parameters for the linear layer have been adjusted accordingly\n",
        "- Drop out layer has also been added for regularization"
      ]
    },
    {
      "cell_type": "code",
      "execution_count": null,
      "metadata": {
        "id": "2qK4hpdS0JTa"
      },
      "outputs": [],
      "source": [
        "class ResNet(nn.Module):\n",
        "    def __init__(self, channels, block, num_blocks, num_classes=10):\n",
        "        super(ResNet, self).__init__()\n",
        "        self.in_planes = channels[0]\n",
        "        dropout_probability = 0.2\n",
        "        self.conv1 = nn.Conv2d(3, channels[0], kernel_size=3,\n",
        "                               stride=1, padding=1, bias=False)\n",
        "        self.bn1 = nn.BatchNorm2d(channels[0])\n",
        "        self.layer1 = self._make_layer(block, channels[0], num_blocks[0], stride=1)\n",
        "        self.layer2 = self._make_layer(block, channels[1], num_blocks[1], stride=2)\n",
        "        self.layer3 = self._make_layer(block, channels[2], num_blocks[2], stride=2)\n",
        "        self.layer4 = self._make_layer(block, channels[3], num_blocks[3], stride=2)\n",
        "        self.linear = nn.Linear(channels[3]*4*4, num_classes)\n",
        "\n",
        "        # Dropout layer\n",
        "        self.dropout = nn.Dropout(dropout_probability)\n",
        "\n",
        "    def _make_layer(self, block, planes, num_blocks, stride):\n",
        "        strides = [stride] + [1]*(num_blocks-1)\n",
        "        layers = []\n",
        "        for stride in strides:\n",
        "            layers.append(block(self.in_planes, planes, stride))\n",
        "            self.in_planes = planes \n",
        "        return nn.Sequential(*layers)\n",
        "\n",
        "    def forward(self, x):\n",
        "        out = f.relu(self.bn1(self.conv1(x)))\n",
        "        out = self.layer1(out)\n",
        "        out = self.layer2(out)\n",
        "        # comment the line below to remove dropout layer\n",
        "        out = self.dropout(out)\n",
        "        out = self.layer3(out)\n",
        "        out = self.layer4(out)\n",
        "        # out = f.avg_pool2d(out, 4)\n",
        "        out = out.view(out.size(0), -1)\n",
        "\n",
        "        # Apply dropout\n",
        "        out = self.dropout(out)\n",
        "\n",
        "        out = self.linear(out)\n",
        "        return out"
      ]
    },
    {
      "cell_type": "code",
      "execution_count": null,
      "metadata": {
        "id": "4z7f76cw0XCN"
      },
      "outputs": [],
      "source": [
        "def ResNet18():\n",
        "    return ResNet(channels, BasicBlock, [2, 2, 2, 2])"
      ]
    },
    {
      "cell_type": "markdown",
      "metadata": {
        "id": "PMSAYFYK0-82"
      },
      "source": [
        "5 million = 5,000,000"
      ]
    },
    {
      "cell_type": "code",
      "execution_count": null,
      "metadata": {
        "colab": {
          "base_uri": "https://localhost:8080/"
        },
        "id": "Sx-8MjEL0fcI",
        "outputId": "e690f669-1e31-4a9f-a0ae-e44fe017d243"
      },
      "outputs": [
        {
          "output_type": "stream",
          "name": "stdout",
          "text": [
            "Number of parameters:  2836010\n"
          ]
        }
      ],
      "source": [
        "# Create an instance of ResNet18\n",
        "model = ResNet18()\n",
        "model.to(device)\n",
        "\n",
        "# Count the number of parameters\n",
        "num_params = sum(p.numel() for p in model.parameters())\n",
        "print(\"Number of parameters: \", num_params)\n",
        "\n",
        "# Loss function\n",
        "criterion = nn.CrossEntropyLoss()\n",
        "\n",
        "# Optimizer\n",
        "optimizer = optim.Adam(model.parameters(), lr=1e-3)\n",
        "#uncomment the below line for lr scheduling\n",
        "# scheduler = torch.optim.lr_scheduler.CosineAnnealingLR(optimizer, T_max=200)\n"
      ]
    },
    {
      "cell_type": "code",
      "execution_count": null,
      "metadata": {
        "id": "zYjCDpV8n6SL"
      },
      "outputs": [],
      "source": [
        "def train_model(epoch):\n",
        "  # num_batches = torch.ceil(torch.tensor(len(train_dataset)/100)).item()\n",
        "  model.train()\n",
        "  train_acc = 0\n",
        "  epoch_loss = 0\n",
        "  for i, (images, labels) in enumerate(train_loader):\n",
        "      images = images.to(device)\n",
        "      labels = labels.to(device)\n",
        "      # print(train_loader, len(train_loader))\n",
        "      # Forward pass\n",
        "      output = model(images)\n",
        "      loss = criterion(output, labels)\n",
        "      # acc = calculate_accuracy(output, labels)\n",
        "      _, predicted = torch.max(output.data, 1)\n",
        "      # Backward and optimize\n",
        "      optimizer.zero_grad()\n",
        "      loss.backward()\n",
        "      optimizer.step()\n",
        "      # epoch_acc += acc\n",
        "      train_acc += (labels == predicted).sum().item()\n",
        "      epoch_loss += loss.item()\n",
        "      \n",
        "       \n",
        "\n",
        "  print(f'Epoch [{epoch+1}/{num_epochs}], Loss: {epoch_loss / len(train_loader):.4f}, Accuracy: {train_acc / len(train_dataset)}')\n",
        "  return round((train_acc / len(train_dataset))*100,2)"
      ]
    },
    {
      "cell_type": "code",
      "execution_count": null,
      "metadata": {
        "id": "mV0pNfnioc6G"
      },
      "outputs": [],
      "source": [
        "# Test the model\n",
        "def model_eval(best_acc):\n",
        "  model.eval()\n",
        "  with torch.no_grad():\n",
        "      correct = 0\n",
        "      total = 0\n",
        "      for images, labels in test_loader:\n",
        "          images = images.to(device)\n",
        "          labels = labels.to(device)\n",
        "          outputs = model(images)\n",
        "          _, predicted = torch.max(outputs.data, 1)\n",
        "          total += labels.size(0)\n",
        "          correct += (predicted == labels).sum().item()\n",
        "\n",
        "  # Print the accuracy\n",
        "  accuracy = 100 * correct / total\n",
        "  print(f'Test Accuracy: {accuracy:.2f}%')\n",
        "  if accuracy>best_acc:\n",
        "    # Save the model checkpoint\n",
        "    torch.save(model.state_dict(), 'resnet.ckpt')\n",
        "  return accuracy"
      ]
    },
    {
      "cell_type": "code",
      "execution_count": null,
      "metadata": {
        "colab": {
          "base_uri": "https://localhost:8080/"
        },
        "id": "4v3qffoy9GYJ",
        "outputId": "11a35221-a2c4-424b-8965-f4f02fa3a782"
      },
      "outputs": [
        {
          "output_type": "stream",
          "name": "stdout",
          "text": [
            "Epoch [1/50], Loss: 1.8000, Accuracy: 0.36768\n",
            "Test Accuracy: 49.75%\n",
            "Epoch [2/50], Loss: 1.3095, Accuracy: 0.53008\n",
            "Test Accuracy: 62.89%\n",
            "Epoch [3/50], Loss: 1.0779, Accuracy: 0.61864\n",
            "Test Accuracy: 63.29%\n",
            "Epoch [4/50], Loss: 0.9312, Accuracy: 0.6724\n",
            "Test Accuracy: 72.91%\n",
            "Epoch [5/50], Loss: 0.8233, Accuracy: 0.70892\n",
            "Test Accuracy: 76.81%\n",
            "Epoch [6/50], Loss: 0.7421, Accuracy: 0.74096\n",
            "Test Accuracy: 76.80%\n",
            "Epoch [7/50], Loss: 0.6789, Accuracy: 0.76422\n",
            "Test Accuracy: 78.75%\n",
            "Epoch [8/50], Loss: 0.6279, Accuracy: 0.78108\n",
            "Test Accuracy: 80.74%\n",
            "Epoch [9/50], Loss: 0.5898, Accuracy: 0.79558\n",
            "Test Accuracy: 80.32%\n",
            "Epoch [10/50], Loss: 0.5482, Accuracy: 0.81072\n",
            "Test Accuracy: 82.59%\n",
            "Epoch [11/50], Loss: 0.5182, Accuracy: 0.81918\n",
            "Test Accuracy: 83.99%\n",
            "Epoch [12/50], Loss: 0.4905, Accuracy: 0.83064\n",
            "Test Accuracy: 83.91%\n",
            "Epoch [13/50], Loss: 0.4745, Accuracy: 0.8377\n",
            "Test Accuracy: 84.73%\n",
            "Epoch [14/50], Loss: 0.4480, Accuracy: 0.84348\n",
            "Test Accuracy: 84.91%\n",
            "Epoch [15/50], Loss: 0.4252, Accuracy: 0.85444\n",
            "Test Accuracy: 85.78%\n",
            "Epoch [16/50], Loss: 0.4046, Accuracy: 0.8597\n",
            "Test Accuracy: 84.39%\n",
            "Epoch [17/50], Loss: 0.3908, Accuracy: 0.86512\n",
            "Test Accuracy: 87.35%\n",
            "Epoch [18/50], Loss: 0.3789, Accuracy: 0.8684\n",
            "Test Accuracy: 85.96%\n",
            "Epoch [19/50], Loss: 0.3650, Accuracy: 0.87306\n",
            "Test Accuracy: 87.10%\n",
            "Epoch [20/50], Loss: 0.3519, Accuracy: 0.87726\n",
            "Test Accuracy: 87.48%\n",
            "Epoch [21/50], Loss: 0.3351, Accuracy: 0.8848\n",
            "Test Accuracy: 87.77%\n",
            "Epoch [22/50], Loss: 0.3286, Accuracy: 0.8866\n",
            "Test Accuracy: 88.25%\n",
            "Epoch [23/50], Loss: 0.3178, Accuracy: 0.89042\n",
            "Test Accuracy: 88.50%\n",
            "Epoch [24/50], Loss: 0.3013, Accuracy: 0.8941\n",
            "Test Accuracy: 89.18%\n",
            "Epoch [25/50], Loss: 0.2934, Accuracy: 0.8983\n",
            "Test Accuracy: 88.26%\n",
            "Epoch [26/50], Loss: 0.2832, Accuracy: 0.90194\n",
            "Test Accuracy: 89.59%\n",
            "Epoch [27/50], Loss: 0.2727, Accuracy: 0.90554\n",
            "Test Accuracy: 89.35%\n",
            "Epoch [28/50], Loss: 0.2654, Accuracy: 0.90814\n",
            "Test Accuracy: 89.26%\n",
            "Epoch [29/50], Loss: 0.2587, Accuracy: 0.90864\n",
            "Test Accuracy: 89.17%\n",
            "Epoch [30/50], Loss: 0.2521, Accuracy: 0.91084\n",
            "Test Accuracy: 89.46%\n",
            "Epoch [31/50], Loss: 0.2460, Accuracy: 0.91488\n",
            "Test Accuracy: 89.11%\n",
            "Epoch [32/50], Loss: 0.2403, Accuracy: 0.91486\n",
            "Test Accuracy: 88.82%\n",
            "Epoch [33/50], Loss: 0.2312, Accuracy: 0.91778\n",
            "Test Accuracy: 89.93%\n",
            "Epoch [34/50], Loss: 0.2255, Accuracy: 0.92046\n",
            "Test Accuracy: 89.66%\n",
            "Epoch [35/50], Loss: 0.2175, Accuracy: 0.92424\n",
            "Test Accuracy: 89.62%\n",
            "Epoch [36/50], Loss: 0.2156, Accuracy: 0.9257\n",
            "Test Accuracy: 90.00%\n",
            "Epoch [37/50], Loss: 0.2104, Accuracy: 0.92728\n",
            "Test Accuracy: 89.59%\n",
            "Epoch [38/50], Loss: 0.2038, Accuracy: 0.9287\n",
            "Test Accuracy: 90.20%\n",
            "Epoch [39/50], Loss: 0.1996, Accuracy: 0.92974\n",
            "Test Accuracy: 89.35%\n",
            "Epoch [40/50], Loss: 0.1937, Accuracy: 0.932\n",
            "Test Accuracy: 89.76%\n",
            "Epoch [41/50], Loss: 0.1863, Accuracy: 0.9336\n",
            "Test Accuracy: 89.29%\n",
            "Epoch [42/50], Loss: 0.1843, Accuracy: 0.93514\n",
            "Test Accuracy: 90.15%\n",
            "Epoch [43/50], Loss: 0.1800, Accuracy: 0.9363\n",
            "Test Accuracy: 90.07%\n",
            "Epoch [44/50], Loss: 0.1760, Accuracy: 0.93784\n",
            "Test Accuracy: 90.69%\n",
            "Epoch [45/50], Loss: 0.1721, Accuracy: 0.93976\n",
            "Test Accuracy: 90.46%\n",
            "Epoch [46/50], Loss: 0.1690, Accuracy: 0.94014\n",
            "Test Accuracy: 90.38%\n",
            "Epoch [47/50], Loss: 0.1665, Accuracy: 0.94122\n",
            "Test Accuracy: 91.05%\n",
            "Epoch [48/50], Loss: 0.1627, Accuracy: 0.94238\n",
            "Test Accuracy: 90.36%\n",
            "Epoch [49/50], Loss: 0.1585, Accuracy: 0.9451\n",
            "Test Accuracy: 90.77%\n",
            "Epoch [50/50], Loss: 0.1557, Accuracy: 0.945\n",
            "Test Accuracy: 90.59%\n"
          ]
        }
      ],
      "source": [
        "# Training loop\n",
        "num_epochs = 50\n",
        "best_acc = 0\n",
        "train_accuracies = []\n",
        "test_accuracies = []\n",
        "for epoch in range(num_epochs):\n",
        "  train_accuracies.append(train_model(epoch))\n",
        "  #if (epoch+1)%5==0:\n",
        "  best_acc = max(best_acc, model_eval(best_acc))\n",
        "  test_accuracies.append(best_acc)\n",
        "  # scheduler.step() #uncomment while implementing lr scheduling\n"
      ]
    },
    {
      "cell_type": "code",
      "execution_count": null,
      "metadata": {
        "id": "j1yj2y8rzSL0",
        "colab": {
          "base_uri": "https://localhost:8080/",
          "height": 561
        },
        "outputId": "bad4be6c-5a2d-4299-8615-3fb63d3d9ef4"
      },
      "outputs": [
        {
          "output_type": "stream",
          "name": "stdout",
          "text": [
            "[36.77, 53.01, 61.86, 67.24, 70.89, 74.1, 76.42, 78.11, 79.56, 81.07, 81.92, 83.06, 83.77, 84.35, 85.44, 85.97, 86.51, 86.84, 87.31, 87.73, 88.48, 88.66, 89.04, 89.41, 89.83, 90.19, 90.55, 90.81, 90.86, 91.08, 91.49, 91.49, 91.78, 92.05, 92.42, 92.57, 92.73, 92.87, 92.97, 93.2, 93.36, 93.51, 93.63, 93.78, 93.98, 94.01, 94.12, 94.24, 94.51, 94.5]\n",
            "[49.75, 62.89, 63.29, 72.91, 76.81, 76.81, 78.75, 80.74, 80.74, 82.59, 83.99, 83.99, 84.73, 84.91, 85.78, 85.78, 87.35, 87.35, 87.35, 87.48, 87.77, 88.25, 88.5, 89.18, 89.18, 89.59, 89.59, 89.59, 89.59, 89.59, 89.59, 89.59, 89.93, 89.93, 89.93, 90.0, 90.0, 90.2, 90.2, 90.2, 90.2, 90.2, 90.2, 90.69, 90.69, 90.69, 91.05, 91.05, 91.05, 91.05]\n"
          ]
        },
        {
          "output_type": "display_data",
          "data": {
            "text/plain": [
              "<Figure size 640x480 with 1 Axes>"
            ],
            "image/png": "[encoded data removed]"
          },
          "metadata": {}
        },
        {
          "output_type": "stream",
          "name": "stdout",
          "text": [
            "Test Acc:  91.05\n"
          ]
        },
        {
          "output_type": "display_data",
          "data": {
            "text/plain": [
              "<Figure size 640x480 with 0 Axes>"
            ]
          },
          "metadata": {}
        }
      ],
      "source": [
        "import matplotlib.pyplot as plt\n",
        "import matplotlib.ticker as plticker\n",
        "import numpy as np\n",
        "\n",
        "# Generate two arrays for comparison\n",
        "x = np.arange(1, 51) # Array of x values\n",
        "y1 =  train_accuracies\n",
        "y2 = test_accuracies\n",
        "# print(len(y1))\n",
        "# print(len(y2))\n",
        "print(y1)\n",
        "print(y2)\n",
        "\n",
        "# Create the line graph\n",
        "plt.plot(x, y1, label='Train accuracy')\n",
        "plt.plot(x, y2, label='Test accuracy')\n",
        "\n",
        "loc = plticker.MultipleLocator(base=5.0) # this locator puts ticks at regular intervals\n",
        "plt.gca().xaxis.set_major_locator(loc)\n",
        "\n",
        "# Add labels and title\n",
        "plt.xlabel('Epochs')\n",
        "plt.ylabel('Accuracies')\n",
        "plt.title('Test and Train accuracies')\n",
        "\n",
        "# Add a legend\n",
        "plt.legend()\n",
        "\n",
        "# Show the plot\n",
        "plt.show()\n",
        "print(\"Test Acc: \",test_accuracies[-1])\n",
        "# Save the graph as a PNG image\n",
        "plt.savefig('graph.png')"
      ]
    },
    {
      "cell_type": "code",
      "source": [],
      "metadata": {
        "id": "TrcOjgEGgjTB"
      },
      "execution_count": null,
      "outputs": []
    }
  ],
  "metadata": {
    "accelerator": "GPU",
    "colab": {
      "provenance": []
    },
    "gpuClass": "standard",
    "kernelspec": {
      "display_name": "Python 3",
      "name": "python3"
    },
    "language_info": {
      "name": "python"
    }
  },
  "nbformat": 4,
  "nbformat_minor": 0
}