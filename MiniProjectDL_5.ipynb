{
  "cells": [
    {
      "cell_type": "code",
      "execution_count": 16,
      "metadata": {
        "id": "R28q6NNHzm_W"
      },
      "outputs": [],
      "source": [
        "# import required libraries\n",
        "import torch\n",
        "import torch.nn as nn\n",
        "import torch.nn.functional as f\n",
        "import torchvision\n",
        "import torchvision.transforms as transforms\n",
        "import torch.optim as optim\n",
        "import csv\n",
        "import torchvision.transforms as transforms\n",
        "\n",
        "#set seed for consistency and reproducibility\n",
        "torch.manual_seed(123)\n",
        "if torch.cuda.is_available:\n",
        "  torch.cuda.manual_seed_all(1234)"
      ]
    },
    {
      "cell_type": "code",
      "source": [
        "# Device configuration\n",
        "device = torch.device('cuda' if torch.cuda.is_available() else 'cpu')"
      ],
      "metadata": {
        "id": "Mh3N8bGPG7XG"
      },
      "execution_count": 17,
      "outputs": []
    },
    {
      "cell_type": "markdown",
      "source": [
        "Data Augmentation has been performed to increase accuracy"
      ],
      "metadata": {
        "id": "6pjGEXlvjMCE"
      }
    },
    {
      "cell_type": "code",
      "source": [
        "# transformation for test data - nomalizing test data\n",
        "test_transform = transforms.Compose([\n",
        "    transforms.ToTensor(),\n",
        "    transforms.Normalize((0.5, 0.5, 0.5), (0.5, 0.5, 0.5))\n",
        "])\n",
        "\n",
        "# transformation for train data \n",
        "train_transform = transforms.Compose([\n",
        "    transforms.RandomRotation(10), # Add random rotation with 10 degrees\n",
        "    transforms.ColorJitter(brightness=0.1, contrast=0.1, saturation=0.1, hue=0.1), # Add color jitter\n",
        "    transforms.RandomHorizontalFlip(), #apply horizontal flipping\n",
        "    transforms.RandomCrop(32, padding=4),\n",
        "    transforms.ToTensor(),\n",
        "    transforms.Normalize((0.5, 0.5, 0.5), (0.5, 0.5, 0.5))\n",
        "])\n",
        "\n",
        "# Create CIFAR-10 train dataset with updated data augmentation\n",
        "train_dataset = torchvision.datasets.CIFAR10(root='./data', train=True, transform=train_transform, download=True)\n",
        "\n",
        "# Create CIFAR-10 test dataset \n",
        "test_dataset = torchvision.datasets.CIFAR10(root='./data', train=False, transform=test_transform, download=True)\n",
        "\n",
        "# Create data loaders\n",
        "train_loader = torch.utils.data.DataLoader(train_dataset, batch_size=100, shuffle=True)\n",
        "test_loader = torch.utils.data.DataLoader(test_dataset, batch_size=100, shuffle=False)\n"
      ],
      "metadata": {
        "colab": {
          "base_uri": "https://localhost:8080/"
        },
        "id": "umTEDAMTbl5w",
        "outputId": "b88892d9-c158-4d7e-db37-768f3ee04b1e"
      },
      "execution_count": 18,
      "outputs": [
        {
          "output_type": "stream",
          "name": "stdout",
          "text": [
            "Files already downloaded and verified\n",
            "Files already downloaded and verified\n"
          ]
        }
      ]
    },
    {
      "cell_type": "code",
      "execution_count": 19,
      "metadata": {
        "id": "628WQLlZz4Ww"
      },
      "outputs": [],
      "source": [
        "class BasicBlock(nn.Module):\n",
        "    expansion = 1\n",
        "\n",
        "    def __init__(self, in_planes, planes, stride=1):\n",
        "        super(BasicBlock, self).__init__()\n",
        "        #in_planes = input chanel size\n",
        "        #planes = output chanel size\n",
        "        #convolution later 1\n",
        "        self.conv1 = nn.Conv2d(\n",
        "            in_planes, planes, kernel_size=3, stride=stride, padding=1, bias=False)\n",
        "        #batch norm 1\n",
        "        self.bn1 = nn.BatchNorm2d(planes)\n",
        "        #convolution layer 2\n",
        "        self.conv2 = nn.Conv2d(planes, planes, kernel_size=3,\n",
        "                               stride=1, padding=1, bias=False)\n",
        "        #batch norm 2\n",
        "        self.bn2 = nn.BatchNorm2d(planes)\n",
        "\n",
        "        #skip connection\n",
        "        self.shortcut = nn.Sequential()\n",
        "        if stride != 1 or in_planes != self.expansion*planes:\n",
        "            self.shortcut = nn.Sequential(\n",
        "                nn.Conv2d(in_planes, self.expansion*planes,\n",
        "                          kernel_size=1, stride=stride, bias=False),\n",
        "                nn.BatchNorm2d(self.expansion*planes)\n",
        "            )\n",
        "\n",
        "    #forward pass of res-net\n",
        "    def forward(self, x):\n",
        "        out = f.relu(self.bn1(self.conv1(x)))\n",
        "        out = self.bn2(self.conv2(out))\n",
        "        out += self.shortcut(x)\n",
        "        out = f.relu(out)\n",
        "        return out\n"
      ]
    },
    {
      "cell_type": "code",
      "source": [
        "#to edit the number of channels\n",
        "channels = [32, 64, 128, 256]"
      ],
      "metadata": {
        "id": "7NPcNSOW58OY"
      },
      "execution_count": 20,
      "outputs": []
    },
    {
      "cell_type": "markdown",
      "source": [
        "- Here the averge pool layer has been removed and the parameters for the linear layer have been adjusted accordingly\n",
        "- Drop out layer has also been added for regularization"
      ],
      "metadata": {
        "id": "4TTCxrYTJhAb"
      }
    },
    {
      "cell_type": "code",
      "execution_count": 21,
      "metadata": {
        "id": "2qK4hpdS0JTa"
      },
      "outputs": [],
      "source": [
        "class ResNet(nn.Module):\n",
        "    def __init__(self, channels, block, num_blocks, num_classes=10):\n",
        "        super(ResNet, self).__init__()\n",
        "        self.in_planes = channels[0]\n",
        "        dropout_probability = 0.175\n",
        "        self.conv1 = nn.Conv2d(3, channels[0], kernel_size=3,\n",
        "                               stride=1, padding=1, bias=False)\n",
        "        self.bn1 = nn.BatchNorm2d(channels[0])\n",
        "        self.layer1 = self._make_layer(block, channels[0], num_blocks[0], stride=1)\n",
        "        self.layer2 = self._make_layer(block, channels[1], num_blocks[1], stride=2)\n",
        "        self.layer3 = self._make_layer(block, channels[2], num_blocks[2], stride=2)\n",
        "        self.layer4 = self._make_layer(block, channels[3], num_blocks[3], stride=2)\n",
        "        self.linear = nn.Linear(channels[3]*4*4, num_classes)\n",
        "\n",
        "        # Dropout layer\n",
        "        self.dropout = nn.Dropout(dropout_probability)\n",
        "\n",
        "    def _make_layer(self, block, planes, num_blocks, stride):\n",
        "        strides = [stride] + [1]*(num_blocks-1)\n",
        "        layers = []\n",
        "        for stride in strides:\n",
        "            layers.append(block(self.in_planes, planes, stride))\n",
        "            self.in_planes = planes \n",
        "        return nn.Sequential(*layers)\n",
        "\n",
        "    def forward(self, x):\n",
        "        out = f.relu(self.bn1(self.conv1(x)))\n",
        "        out = self.layer1(out)\n",
        "        out = self.layer2(out)\n",
        "        # comment the line below to remove dropout layer\n",
        "        #out = self.dropout(out)\n",
        "        out = self.layer3(out)\n",
        "        out = self.layer4(out)\n",
        "        # out = f.avg_pool2d(out, 4)\n",
        "        out = out.view(out.size(0), -1)\n",
        "\n",
        "        # Apply dropout\n",
        "        out = self.dropout(out)\n",
        "\n",
        "        out = self.linear(out)\n",
        "        return out"
      ]
    },
    {
      "cell_type": "code",
      "execution_count": 22,
      "metadata": {
        "id": "4z7f76cw0XCN"
      },
      "outputs": [],
      "source": [
        "def ResNet18():\n",
        "    return ResNet(channels, BasicBlock, [2, 2, 2, 2])"
      ]
    },
    {
      "cell_type": "markdown",
      "metadata": {
        "id": "PMSAYFYK0-82"
      },
      "source": [
        "5 million = 5,000,000"
      ]
    },
    {
      "cell_type": "code",
      "execution_count": 23,
      "metadata": {
        "colab": {
          "base_uri": "https://localhost:8080/"
        },
        "id": "Sx-8MjEL0fcI",
        "outputId": "8e008958-0c75-46f0-cf73-a1ed66a4b534"
      },
      "outputs": [
        {
          "output_type": "stream",
          "name": "stdout",
          "text": [
            "Number of parameters:  2836010\n"
          ]
        }
      ],
      "source": [
        "# Create an instance of ResNet18\n",
        "model = ResNet18()\n",
        "model.to(device)\n",
        "\n",
        "# Count the number of parameters\n",
        "num_params = sum(p.numel() for p in model.parameters())\n",
        "print(\"Number of parameters: \", num_params)\n",
        "\n",
        "# Loss function\n",
        "criterion = nn.CrossEntropyLoss()\n",
        "\n",
        "# Optimizer\n",
        "optimizer = optim.Adam(model.parameters(), lr=1e-3)\n",
        "#uncomment the below line for lr scheduling\n",
        "#scheduler = torch.optim.lr_scheduler.CosineAnnealingLR(optimizer, T_max=200)\n"
      ]
    },
    {
      "cell_type": "code",
      "execution_count": 24,
      "metadata": {
        "id": "zYjCDpV8n6SL"
      },
      "outputs": [],
      "source": [
        "def train_model(epoch):\n",
        "  # num_batches = torch.ceil(torch.tensor(len(train_dataset)/100)).item()\n",
        "  model.train()\n",
        "  train_acc = 0\n",
        "  epoch_loss = 0\n",
        "  for i, (images, labels) in enumerate(train_loader):\n",
        "      images = images.to(device)\n",
        "      labels = labels.to(device)\n",
        "      # print(train_loader, len(train_loader))\n",
        "      # Forward pass\n",
        "      output = model(images)\n",
        "      loss = criterion(output, labels)\n",
        "      # acc = calculate_accuracy(output, labels)\n",
        "      _, predicted = torch.max(output.data, 1)\n",
        "      # Backward and optimize\n",
        "      optimizer.zero_grad()\n",
        "      loss.backward()\n",
        "      optimizer.step()\n",
        "      # epoch_acc += acc\n",
        "      train_acc += (labels == predicted).sum().item()\n",
        "      epoch_loss += loss.item()\n",
        "      \n",
        "       \n",
        "\n",
        "  print(f'Epoch [{epoch+1}/{num_epochs}], Loss: {epoch_loss / len(train_loader):.4f}, Accuracy: {train_acc / len(train_dataset)}')\n",
        "  return round((train_acc / len(train_dataset))*100,2)"
      ]
    },
    {
      "cell_type": "code",
      "execution_count": 25,
      "metadata": {
        "id": "mV0pNfnioc6G"
      },
      "outputs": [],
      "source": [
        "# Test the model\n",
        "def model_eval(best_acc):\n",
        "  model.eval()\n",
        "  with torch.no_grad():\n",
        "      correct = 0\n",
        "      total = 0\n",
        "      for images, labels in test_loader:\n",
        "          images = images.to(device)\n",
        "          labels = labels.to(device)\n",
        "          outputs = model(images)\n",
        "          _, predicted = torch.max(outputs.data, 1)\n",
        "          total += labels.size(0)\n",
        "          correct += (predicted == labels).sum().item()\n",
        "\n",
        "  # Print the accuracy\n",
        "  accuracy = 100 * correct / total\n",
        "  print(f'Test Accuracy: {accuracy:.2f}%')\n",
        "  if accuracy>best_acc:\n",
        "    # Save the model checkpoint\n",
        "    torch.save(model.state_dict(), 'resnet.ckpt')\n",
        "  return accuracy"
      ]
    },
    {
      "cell_type": "code",
      "source": [
        "# Training loop\n",
        "num_epochs = 35\n",
        "best_acc = 0\n",
        "train_accuracies = []\n",
        "test_accuracies = []\n",
        "for epoch in range(num_epochs):\n",
        "  train_accuracies.append(train_model(epoch))\n",
        "  #if (epoch+1)%5==0:\n",
        "  best_acc = max(best_acc, model_eval(best_acc))\n",
        "  test_accuracies.append(best_acc)\n",
        "  #scheduler.step() #uncomment while implementing lr scheduling\n"
      ],
      "metadata": {
        "id": "4v3qffoy9GYJ",
        "colab": {
          "base_uri": "https://localhost:8080/"
        },
        "outputId": "36947a78-9a74-47ad-ebd8-f8e3bb63396d"
      },
      "execution_count": 26,
      "outputs": [
        {
          "output_type": "stream",
          "name": "stdout",
          "text": [
            "Epoch [1/35], Loss: 1.7337, Accuracy: 0.38736\n",
            "Test Accuracy: 51.60%\n",
            "Epoch [2/35], Loss: 1.2474, Accuracy: 0.55632\n",
            "Test Accuracy: 54.38%\n",
            "Epoch [3/35], Loss: 1.0177, Accuracy: 0.64064\n",
            "Test Accuracy: 67.40%\n",
            "Epoch [4/35], Loss: 0.8822, Accuracy: 0.68968\n",
            "Test Accuracy: 71.20%\n",
            "Epoch [5/35], Loss: 0.7876, Accuracy: 0.7229\n",
            "Test Accuracy: 76.34%\n",
            "Epoch [6/35], Loss: 0.7173, Accuracy: 0.74886\n",
            "Test Accuracy: 73.49%\n",
            "Epoch [7/35], Loss: 0.6525, Accuracy: 0.77338\n",
            "Test Accuracy: 77.37%\n",
            "Epoch [8/35], Loss: 0.6107, Accuracy: 0.78766\n",
            "Test Accuracy: 80.12%\n",
            "Epoch [9/35], Loss: 0.5727, Accuracy: 0.8019\n",
            "Test Accuracy: 82.33%\n",
            "Epoch [10/35], Loss: 0.5366, Accuracy: 0.81514\n",
            "Test Accuracy: 82.88%\n",
            "Epoch [11/35], Loss: 0.5020, Accuracy: 0.82598\n",
            "Test Accuracy: 84.43%\n",
            "Epoch [12/35], Loss: 0.4870, Accuracy: 0.83062\n",
            "Test Accuracy: 84.99%\n",
            "Epoch [13/35], Loss: 0.4618, Accuracy: 0.84116\n",
            "Test Accuracy: 85.72%\n",
            "Epoch [14/35], Loss: 0.4420, Accuracy: 0.84568\n",
            "Test Accuracy: 86.32%\n",
            "Epoch [15/35], Loss: 0.4218, Accuracy: 0.85464\n",
            "Test Accuracy: 85.96%\n",
            "Epoch [16/35], Loss: 0.4034, Accuracy: 0.86086\n",
            "Test Accuracy: 87.20%\n",
            "Epoch [17/35], Loss: 0.3852, Accuracy: 0.86726\n",
            "Test Accuracy: 86.53%\n",
            "Epoch [18/35], Loss: 0.3762, Accuracy: 0.87104\n",
            "Test Accuracy: 86.76%\n",
            "Epoch [19/35], Loss: 0.3595, Accuracy: 0.87552\n",
            "Test Accuracy: 86.84%\n",
            "Epoch [20/35], Loss: 0.3434, Accuracy: 0.8819\n",
            "Test Accuracy: 87.28%\n",
            "Epoch [21/35], Loss: 0.3333, Accuracy: 0.88504\n",
            "Test Accuracy: 88.06%\n",
            "Epoch [22/35], Loss: 0.3196, Accuracy: 0.88902\n",
            "Test Accuracy: 87.09%\n",
            "Epoch [23/35], Loss: 0.3128, Accuracy: 0.89068\n",
            "Test Accuracy: 88.68%\n",
            "Epoch [24/35], Loss: 0.3015, Accuracy: 0.89426\n",
            "Test Accuracy: 89.19%\n",
            "Epoch [25/35], Loss: 0.2868, Accuracy: 0.90032\n",
            "Test Accuracy: 88.43%\n",
            "Epoch [26/35], Loss: 0.2857, Accuracy: 0.90018\n",
            "Test Accuracy: 88.81%\n",
            "Epoch [27/35], Loss: 0.2708, Accuracy: 0.90486\n",
            "Test Accuracy: 89.87%\n",
            "Epoch [28/35], Loss: 0.2666, Accuracy: 0.90602\n",
            "Test Accuracy: 89.76%\n",
            "Epoch [29/35], Loss: 0.2548, Accuracy: 0.90994\n",
            "Test Accuracy: 90.21%\n",
            "Epoch [30/35], Loss: 0.2498, Accuracy: 0.91282\n",
            "Test Accuracy: 89.14%\n",
            "Epoch [31/35], Loss: 0.2447, Accuracy: 0.91382\n",
            "Test Accuracy: 89.79%\n",
            "Epoch [32/35], Loss: 0.2657, Accuracy: 0.91096\n",
            "Test Accuracy: 89.90%\n",
            "Epoch [33/35], Loss: 0.2366, Accuracy: 0.91752\n",
            "Test Accuracy: 89.80%\n",
            "Epoch [34/35], Loss: 0.2256, Accuracy: 0.921\n",
            "Test Accuracy: 88.45%\n",
            "Epoch [35/35], Loss: 0.2170, Accuracy: 0.924\n",
            "Test Accuracy: 89.54%\n"
          ]
        }
      ]
    },
    {
      "cell_type": "code",
      "source": [
        "import matplotlib.pyplot as plt\n",
        "import matplotlib.ticker as plticker\n",
        "import numpy as np\n",
        "\n",
        "# Generate two arrays for comparison\n",
        "x = np.arange(1, 36) # Array of x values\n",
        "y1 =  train_accuracies\n",
        "y2 = test_accuracies\n",
        "# print(len(y1))\n",
        "# print(len(y2))\n",
        "print(y1)\n",
        "print(y2)\n",
        "\n",
        "# Create the line graph\n",
        "plt.plot(x, y1, label='Train accuracy')\n",
        "plt.plot(x, y2, label='Test accuracy')\n",
        "\n",
        "loc = plticker.MultipleLocator(base=5.0) # this locator puts ticks at regular intervals\n",
        "plt.gca().xaxis.set_major_locator(loc)\n",
        "\n",
        "# Add labels and title\n",
        "plt.xlabel('Epochs')\n",
        "plt.ylabel('Accuracies')\n",
        "plt.title('Test and Train accuracies')\n",
        "\n",
        "# Add a legend\n",
        "plt.legend()\n",
        "\n",
        "# Show the plot\n",
        "plt.show()\n",
        "\n",
        "# Save the graph as a PNG image\n",
        "plt.savefig('graph.png')"
      ],
      "metadata": {
        "colab": {
          "base_uri": "https://localhost:8080/",
          "height": 544
        },
        "id": "j1yj2y8rzSL0",
        "outputId": "fc9d0365-d735-44ce-efb7-e8df7066f469"
      },
      "execution_count": 27,
      "outputs": [
        {
          "output_type": "stream",
          "name": "stdout",
          "text": [
            "[38.74, 55.63, 64.06, 68.97, 72.29, 74.89, 77.34, 78.77, 80.19, 81.51, 82.6, 83.06, 84.12, 84.57, 85.46, 86.09, 86.73, 87.1, 87.55, 88.19, 88.5, 88.9, 89.07, 89.43, 90.03, 90.02, 90.49, 90.6, 90.99, 91.28, 91.38, 91.1, 91.75, 92.1, 92.4]\n",
            "[51.6, 54.38, 67.4, 71.2, 76.34, 76.34, 77.37, 80.12, 82.33, 82.88, 84.43, 84.99, 85.72, 86.32, 86.32, 87.2, 87.2, 87.2, 87.2, 87.28, 88.06, 88.06, 88.68, 89.19, 89.19, 89.19, 89.87, 89.87, 90.21, 90.21, 90.21, 90.21, 90.21, 90.21, 90.21]\n"
          ]
        },
        {
          "output_type": "display_data",
          "data": {
            "text/plain": [
              "<Figure size 640x480 with 1 Axes>"
            ],
            "image/png": "[encoded data removed]"
          },
          "metadata": {}
        },
        {
          "output_type": "display_data",
          "data": {
            "text/plain": [
              "<Figure size 640x480 with 0 Axes>"
            ]
          },
          "metadata": {}
        }
      ]
    },
    {
      "cell_type": "code",
      "source": [],
      "metadata": {
        "id": "PAINIIcBauo-"
      },
      "execution_count": 27,
      "outputs": []
    }
  ],
  "metadata": {
    "colab": {
      "provenance": []
    },
    "kernelspec": {
      "display_name": "Python 3",
      "name": "python3"
    },
    "language_info": {
      "name": "python"
    },
    "gpuClass": "standard",
    "accelerator": "GPU"
  },
  "nbformat": 4,
  "nbformat_minor": 0
}