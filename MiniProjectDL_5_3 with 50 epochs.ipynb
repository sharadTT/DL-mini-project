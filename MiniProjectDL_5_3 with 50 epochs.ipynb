{
  "cells": [
    {
      "cell_type": "code",
      "execution_count": 40,
      "metadata": {
        "id": "R28q6NNHzm_W"
      },
      "outputs": [],
      "source": [
        "# import required libraries\n",
        "import torch\n",
        "import torch.nn as nn\n",
        "import torch.nn.functional as f\n",
        "import torchvision\n",
        "import torchvision.transforms as transforms\n",
        "import torch.optim as optim\n",
        "import csv\n",
        "import torchvision.transforms as transforms\n",
        "\n",
        "#set seed for consistency and reproducibility\n",
        "torch.manual_seed(123)\n",
        "if torch.cuda.is_available:\n",
        "  torch.cuda.manual_seed_all(1234)"
      ]
    },
    {
      "cell_type": "code",
      "source": [
        "# Device configuration\n",
        "device = torch.device('cuda' if torch.cuda.is_available() else 'cpu')"
      ],
      "metadata": {
        "id": "Mh3N8bGPG7XG"
      },
      "execution_count": 41,
      "outputs": []
    },
    {
      "cell_type": "markdown",
      "source": [
        "Data Augmentation has been performed to increase accuracy"
      ],
      "metadata": {
        "id": "6pjGEXlvjMCE"
      }
    },
    {
      "cell_type": "code",
      "source": [
        "# transformation for test data - nomalizing test data\n",
        "test_transform = transforms.Compose([\n",
        "    transforms.ToTensor(),\n",
        "    transforms.Normalize((0.5, 0.5, 0.5), (0.5, 0.5, 0.5))\n",
        "])\n",
        "\n",
        "# transformation for train data \n",
        "train_transform = transforms.Compose([\n",
        "    transforms.RandomRotation(10), # Add random rotation with 10 degrees\n",
        "    transforms.ColorJitter(brightness=0.1, contrast=0.1, saturation=0.1, hue=0.1), # Add color jitter\n",
        "    transforms.RandomHorizontalFlip(), #apply horizontal flipping\n",
        "    transforms.RandomCrop(32, padding=4),\n",
        "    transforms.ToTensor(),\n",
        "    transforms.Normalize((0.5, 0.5, 0.5), (0.5, 0.5, 0.5))\n",
        "])\n",
        "\n",
        "# Create CIFAR-10 train dataset with updated data augmentation\n",
        "train_dataset = torchvision.datasets.CIFAR10(root='./data', train=True, transform=train_transform, download=True)\n",
        "\n",
        "# Create CIFAR-10 test dataset \n",
        "test_dataset = torchvision.datasets.CIFAR10(root='./data', train=False, transform=test_transform, download=True)\n",
        "\n",
        "# Create data loaders\n",
        "train_loader = torch.utils.data.DataLoader(train_dataset, batch_size=100, shuffle=True)\n",
        "test_loader = torch.utils.data.DataLoader(test_dataset, batch_size=100, shuffle=False)\n"
      ],
      "metadata": {
        "colab": {
          "base_uri": "https://localhost:8080/"
        },
        "id": "umTEDAMTbl5w",
        "outputId": "c9464b6e-9b02-4894-bf5e-66cbf494e7af"
      },
      "execution_count": 42,
      "outputs": [
        {
          "output_type": "stream",
          "name": "stdout",
          "text": [
            "Files already downloaded and verified\n",
            "Files already downloaded and verified\n"
          ]
        }
      ]
    },
    {
      "cell_type": "code",
      "execution_count": 43,
      "metadata": {
        "id": "628WQLlZz4Ww"
      },
      "outputs": [],
      "source": [
        "class BasicBlock(nn.Module):\n",
        "    expansion = 1\n",
        "\n",
        "    def __init__(self, in_planes, planes, stride=1):\n",
        "        super(BasicBlock, self).__init__()\n",
        "        #in_planes = input chanel size\n",
        "        #planes = output chanel size\n",
        "        #convolution later 1\n",
        "        self.conv1 = nn.Conv2d(\n",
        "            in_planes, planes, kernel_size=3, stride=stride, padding=1, bias=False)\n",
        "        #batch norm 1\n",
        "        self.bn1 = nn.BatchNorm2d(planes)\n",
        "        #convolution layer 2\n",
        "        self.conv2 = nn.Conv2d(planes, planes, kernel_size=3,\n",
        "                               stride=1, padding=1, bias=False)\n",
        "        #batch norm 2\n",
        "        self.bn2 = nn.BatchNorm2d(planes)\n",
        "\n",
        "        #skip connection\n",
        "        self.shortcut = nn.Sequential()\n",
        "        if stride != 1 or in_planes != self.expansion*planes:\n",
        "            self.shortcut = nn.Sequential(\n",
        "                nn.Conv2d(in_planes, self.expansion*planes,\n",
        "                          kernel_size=1, stride=stride, bias=False),\n",
        "                nn.BatchNorm2d(self.expansion*planes)\n",
        "            )\n",
        "\n",
        "    #forward pass of res-net\n",
        "    def forward(self, x):\n",
        "        out = f.relu(self.bn1(self.conv1(x)))\n",
        "        out = self.bn2(self.conv2(out))\n",
        "        out += self.shortcut(x)\n",
        "        out = f.relu(out)\n",
        "        return out\n"
      ]
    },
    {
      "cell_type": "code",
      "source": [
        "#to edit the number of channels\n",
        "channels = [32, 64, 128, 256]"
      ],
      "metadata": {
        "id": "7NPcNSOW58OY"
      },
      "execution_count": 44,
      "outputs": []
    },
    {
      "cell_type": "markdown",
      "source": [
        "- Here the averge pool layer has been removed and the parameters for the linear layer have been adjusted accordingly\n",
        "- Drop out layer has also been added for regularization"
      ],
      "metadata": {
        "id": "4TTCxrYTJhAb"
      }
    },
    {
      "cell_type": "code",
      "execution_count": 45,
      "metadata": {
        "id": "2qK4hpdS0JTa"
      },
      "outputs": [],
      "source": [
        "class ResNet(nn.Module):\n",
        "    def __init__(self, channels, block, num_blocks, num_classes=10):\n",
        "        super(ResNet, self).__init__()\n",
        "        self.in_planes = channels[0]\n",
        "        dropout_probability = 0.175\n",
        "        self.conv1 = nn.Conv2d(3, channels[0], kernel_size=3,\n",
        "                               stride=1, padding=1, bias=False)\n",
        "        self.bn1 = nn.BatchNorm2d(channels[0])\n",
        "        self.layer1 = self._make_layer(block, channels[0], num_blocks[0], stride=1)\n",
        "        self.layer2 = self._make_layer(block, channels[1], num_blocks[1], stride=2)\n",
        "        self.layer3 = self._make_layer(block, channels[2], num_blocks[2], stride=2)\n",
        "        self.layer4 = self._make_layer(block, channels[3], num_blocks[3], stride=2)\n",
        "        self.linear = nn.Linear(channels[3]*4*4, num_classes)\n",
        "\n",
        "        # Dropout layer\n",
        "        self.dropout = nn.Dropout(dropout_probability)\n",
        "\n",
        "    def _make_layer(self, block, planes, num_blocks, stride):\n",
        "        strides = [stride] + [1]*(num_blocks-1)\n",
        "        layers = []\n",
        "        for stride in strides:\n",
        "            layers.append(block(self.in_planes, planes, stride))\n",
        "            self.in_planes = planes \n",
        "        return nn.Sequential(*layers)\n",
        "\n",
        "    def forward(self, x):\n",
        "        out = f.relu(self.bn1(self.conv1(x)))\n",
        "        out = self.layer1(out)\n",
        "        out = self.layer2(out)\n",
        "        # comment the line below to remove dropout layer\n",
        "        #out = self.dropout(out)\n",
        "        out = self.layer3(out)\n",
        "        out = self.layer4(out)\n",
        "        # out = f.avg_pool2d(out, 4)\n",
        "        out = out.view(out.size(0), -1)\n",
        "\n",
        "        # Apply dropout\n",
        "        out = self.dropout(out)\n",
        "\n",
        "        out = self.linear(out)\n",
        "        return out"
      ]
    },
    {
      "cell_type": "code",
      "execution_count": 46,
      "metadata": {
        "id": "4z7f76cw0XCN"
      },
      "outputs": [],
      "source": [
        "def ResNet18():\n",
        "    return ResNet(channels, BasicBlock, [2, 2, 2, 2])"
      ]
    },
    {
      "cell_type": "markdown",
      "metadata": {
        "id": "PMSAYFYK0-82"
      },
      "source": [
        "5 million = 5,000,000"
      ]
    },
    {
      "cell_type": "code",
      "execution_count": 47,
      "metadata": {
        "colab": {
          "base_uri": "https://localhost:8080/"
        },
        "id": "Sx-8MjEL0fcI",
        "outputId": "352f6a1c-3dbb-4738-9299-da6a55c294db"
      },
      "outputs": [
        {
          "output_type": "stream",
          "name": "stdout",
          "text": [
            "Number of parameters:  2836010\n"
          ]
        }
      ],
      "source": [
        "# Create an instance of ResNet18\n",
        "model = ResNet18()\n",
        "model.to(device)\n",
        "\n",
        "# Count the number of parameters\n",
        "num_params = sum(p.numel() for p in model.parameters())\n",
        "print(\"Number of parameters: \", num_params)\n",
        "\n",
        "# Loss function\n",
        "criterion = nn.CrossEntropyLoss()\n",
        "\n",
        "# Optimizer\n",
        "optimizer = optim.Adam(model.parameters(), lr=1e-3)\n",
        "#uncomment the below line for lr scheduling\n",
        "#scheduler = torch.optim.lr_scheduler.CosineAnnealingLR(optimizer, T_max=200)\n"
      ]
    },
    {
      "cell_type": "code",
      "execution_count": 48,
      "metadata": {
        "id": "zYjCDpV8n6SL"
      },
      "outputs": [],
      "source": [
        "def train_model(epoch):\n",
        "  # num_batches = torch.ceil(torch.tensor(len(train_dataset)/100)).item()\n",
        "  model.train()\n",
        "  train_acc = 0\n",
        "  epoch_loss = 0\n",
        "  for i, (images, labels) in enumerate(train_loader):\n",
        "      images = images.to(device)\n",
        "      labels = labels.to(device)\n",
        "      # print(train_loader, len(train_loader))\n",
        "      # Forward pass\n",
        "      output = model(images)\n",
        "      loss = criterion(output, labels)\n",
        "      # acc = calculate_accuracy(output, labels)\n",
        "      _, predicted = torch.max(output.data, 1)\n",
        "      # Backward and optimize\n",
        "      optimizer.zero_grad()\n",
        "      loss.backward()\n",
        "      optimizer.step()\n",
        "      # epoch_acc += acc\n",
        "      train_acc += (labels == predicted).sum().item()\n",
        "      epoch_loss += loss.item()\n",
        "      \n",
        "       \n",
        "\n",
        "  print(f'Epoch [{epoch+1}/{num_epochs}], Loss: {epoch_loss / len(train_loader):.4f}, Accuracy: {train_acc / len(train_dataset)}')\n",
        "  return round((train_acc / len(train_dataset))*100,2)"
      ]
    },
    {
      "cell_type": "code",
      "execution_count": 49,
      "metadata": {
        "id": "mV0pNfnioc6G"
      },
      "outputs": [],
      "source": [
        "# Test the model\n",
        "def model_eval(best_acc):\n",
        "  model.eval()\n",
        "  with torch.no_grad():\n",
        "      correct = 0\n",
        "      total = 0\n",
        "      for images, labels in test_loader:\n",
        "          images = images.to(device)\n",
        "          labels = labels.to(device)\n",
        "          outputs = model(images)\n",
        "          _, predicted = torch.max(outputs.data, 1)\n",
        "          total += labels.size(0)\n",
        "          correct += (predicted == labels).sum().item()\n",
        "\n",
        "  # Print the accuracy\n",
        "  accuracy = 100 * correct / total\n",
        "  print(f'Test Accuracy: {accuracy:.2f}%')\n",
        "  if accuracy>best_acc:\n",
        "    # Save the model checkpoint\n",
        "    torch.save(model.state_dict(), 'resnet.ckpt')\n",
        "  return accuracy"
      ]
    },
    {
      "cell_type": "code",
      "source": [
        "# Training loop\n",
        "num_epochs = 50\n",
        "best_acc = 0\n",
        "train_accuracies = []\n",
        "test_accuracies = []\n",
        "for epoch in range(num_epochs):\n",
        "  train_accuracies.append(train_model(epoch))\n",
        "  #if (epoch+1)%5==0:\n",
        "  best_acc = max(best_acc, model_eval(best_acc))\n",
        "  test_accuracies.append(best_acc)\n",
        "  #scheduler.step() #uncomment while implementing lr scheduling\n"
      ],
      "metadata": {
        "id": "4v3qffoy9GYJ",
        "colab": {
          "base_uri": "https://localhost:8080/"
        },
        "outputId": "fa3c9020-671f-428c-91f2-a99f46ae01fb"
      },
      "execution_count": 50,
      "outputs": [
        {
          "output_type": "stream",
          "name": "stdout",
          "text": [
            "Epoch [1/50], Loss: 1.7458, Accuracy: 0.38576\n",
            "Test Accuracy: 53.11%\n",
            "Epoch [2/50], Loss: 1.2647, Accuracy: 0.55338\n",
            "Test Accuracy: 64.75%\n",
            "Epoch [3/50], Loss: 1.0261, Accuracy: 0.63722\n",
            "Test Accuracy: 70.29%\n",
            "Epoch [4/50], Loss: 0.8791, Accuracy: 0.6879\n",
            "Test Accuracy: 71.06%\n",
            "Epoch [5/50], Loss: 0.7819, Accuracy: 0.726\n",
            "Test Accuracy: 76.84%\n",
            "Epoch [6/50], Loss: 0.7073, Accuracy: 0.75402\n",
            "Test Accuracy: 78.50%\n",
            "Epoch [7/50], Loss: 0.6487, Accuracy: 0.77466\n",
            "Test Accuracy: 79.27%\n",
            "Epoch [8/50], Loss: 0.6041, Accuracy: 0.79156\n",
            "Test Accuracy: 79.72%\n",
            "Epoch [9/50], Loss: 0.5647, Accuracy: 0.80358\n",
            "Test Accuracy: 83.02%\n",
            "Epoch [10/50], Loss: 0.5312, Accuracy: 0.81522\n",
            "Test Accuracy: 82.42%\n",
            "Epoch [11/50], Loss: 0.5049, Accuracy: 0.825\n",
            "Test Accuracy: 84.20%\n",
            "Epoch [12/50], Loss: 0.4796, Accuracy: 0.83248\n",
            "Test Accuracy: 84.78%\n",
            "Epoch [13/50], Loss: 0.4586, Accuracy: 0.84158\n",
            "Test Accuracy: 85.20%\n",
            "Epoch [14/50], Loss: 0.4376, Accuracy: 0.84882\n",
            "Test Accuracy: 85.74%\n",
            "Epoch [15/50], Loss: 0.4183, Accuracy: 0.8547\n",
            "Test Accuracy: 86.59%\n",
            "Epoch [16/50], Loss: 0.4019, Accuracy: 0.85976\n",
            "Test Accuracy: 85.93%\n",
            "Epoch [17/50], Loss: 0.3867, Accuracy: 0.86644\n",
            "Test Accuracy: 86.76%\n",
            "Epoch [18/50], Loss: 0.3727, Accuracy: 0.8716\n",
            "Test Accuracy: 86.58%\n",
            "Epoch [19/50], Loss: 0.3555, Accuracy: 0.87666\n",
            "Test Accuracy: 86.85%\n",
            "Epoch [20/50], Loss: 0.3392, Accuracy: 0.88196\n",
            "Test Accuracy: 86.85%\n",
            "Epoch [21/50], Loss: 0.3356, Accuracy: 0.88408\n",
            "Test Accuracy: 87.91%\n",
            "Epoch [22/50], Loss: 0.3202, Accuracy: 0.88818\n",
            "Test Accuracy: 87.02%\n",
            "Epoch [23/50], Loss: 0.3111, Accuracy: 0.89184\n",
            "Test Accuracy: 88.67%\n",
            "Epoch [24/50], Loss: 0.3026, Accuracy: 0.89518\n",
            "Test Accuracy: 88.62%\n",
            "Epoch [25/50], Loss: 0.2843, Accuracy: 0.90056\n",
            "Test Accuracy: 88.94%\n",
            "Epoch [26/50], Loss: 0.2849, Accuracy: 0.89964\n",
            "Test Accuracy: 88.76%\n",
            "Epoch [27/50], Loss: 0.2738, Accuracy: 0.90532\n",
            "Test Accuracy: 88.62%\n",
            "Epoch [28/50], Loss: 0.2644, Accuracy: 0.90948\n",
            "Test Accuracy: 89.18%\n",
            "Epoch [29/50], Loss: 0.2555, Accuracy: 0.90994\n",
            "Test Accuracy: 89.03%\n",
            "Epoch [30/50], Loss: 0.2508, Accuracy: 0.91308\n",
            "Test Accuracy: 89.07%\n",
            "Epoch [31/50], Loss: 0.2426, Accuracy: 0.9147\n",
            "Test Accuracy: 89.93%\n",
            "Epoch [32/50], Loss: 0.2369, Accuracy: 0.9177\n",
            "Test Accuracy: 89.92%\n",
            "Epoch [33/50], Loss: 0.2277, Accuracy: 0.9202\n",
            "Test Accuracy: 89.68%\n",
            "Epoch [34/50], Loss: 0.2230, Accuracy: 0.92128\n",
            "Test Accuracy: 88.41%\n",
            "Epoch [35/50], Loss: 0.2152, Accuracy: 0.9236\n",
            "Test Accuracy: 89.77%\n",
            "Epoch [36/50], Loss: 0.2163, Accuracy: 0.9234\n",
            "Test Accuracy: 89.71%\n",
            "Epoch [37/50], Loss: 0.2102, Accuracy: 0.92566\n",
            "Test Accuracy: 89.70%\n",
            "Epoch [38/50], Loss: 0.1989, Accuracy: 0.93006\n",
            "Test Accuracy: 90.35%\n",
            "Epoch [39/50], Loss: 0.1991, Accuracy: 0.92974\n",
            "Test Accuracy: 89.80%\n",
            "Epoch [40/50], Loss: 0.1933, Accuracy: 0.93336\n",
            "Test Accuracy: 90.41%\n",
            "Epoch [41/50], Loss: 0.1922, Accuracy: 0.933\n",
            "Test Accuracy: 89.72%\n",
            "Epoch [42/50], Loss: 0.1823, Accuracy: 0.93498\n",
            "Test Accuracy: 89.65%\n",
            "Epoch [43/50], Loss: 0.1793, Accuracy: 0.93656\n",
            "Test Accuracy: 90.30%\n",
            "Epoch [44/50], Loss: 0.1782, Accuracy: 0.93724\n",
            "Test Accuracy: 90.22%\n",
            "Epoch [45/50], Loss: 0.1704, Accuracy: 0.9386\n",
            "Test Accuracy: 90.01%\n",
            "Epoch [46/50], Loss: 0.1671, Accuracy: 0.94118\n",
            "Test Accuracy: 90.16%\n",
            "Epoch [47/50], Loss: 0.1604, Accuracy: 0.94372\n",
            "Test Accuracy: 90.11%\n",
            "Epoch [48/50], Loss: 0.1593, Accuracy: 0.94426\n",
            "Test Accuracy: 90.22%\n",
            "Epoch [49/50], Loss: 0.1554, Accuracy: 0.9453\n",
            "Test Accuracy: 90.62%\n",
            "Epoch [50/50], Loss: 0.1491, Accuracy: 0.94812\n",
            "Test Accuracy: 90.47%\n"
          ]
        }
      ]
    },
    {
      "cell_type": "code",
      "source": [
        "import matplotlib.pyplot as plt\n",
        "import matplotlib.ticker as plticker\n",
        "import numpy as np\n",
        "\n",
        "# Generate two arrays for comparison\n",
        "x = np.arange(1, 51) # Array of x values\n",
        "y1 =  train_accuracies\n",
        "y2 = test_accuracies\n",
        "# print(len(y1))\n",
        "# print(len(y2))\n",
        "print(y1)\n",
        "print(y2)\n",
        "\n",
        "# Create the line graph\n",
        "plt.plot(x, y1, label='Train accuracy')\n",
        "plt.plot(x, y2, label='Test accuracy')\n",
        "\n",
        "loc = plticker.MultipleLocator(base=5.0) # this locator puts ticks at regular intervals\n",
        "plt.gca().xaxis.set_major_locator(loc)\n",
        "\n",
        "# Add labels and title\n",
        "plt.xlabel('Epochs')\n",
        "plt.ylabel('Accuracies')\n",
        "plt.title('Test and Train accuracies')\n",
        "\n",
        "# Add a legend\n",
        "plt.legend()\n",
        "\n",
        "# Show the plot\n",
        "plt.show()\n",
        "\n",
        "# Save the graph as a PNG image\n",
        "plt.savefig('graph.png')"
      ],
      "metadata": {
        "colab": {
          "base_uri": "https://localhost:8080/",
          "height": 544
        },
        "id": "j1yj2y8rzSL0",
        "outputId": "eb17b8b1-e2f4-4f3a-d416-16c87067e764"
      },
      "execution_count": 51,
      "outputs": [
        {
          "output_type": "stream",
          "name": "stdout",
          "text": [
            "[38.58, 55.34, 63.72, 68.79, 72.6, 75.4, 77.47, 79.16, 80.36, 81.52, 82.5, 83.25, 84.16, 84.88, 85.47, 85.98, 86.64, 87.16, 87.67, 88.2, 88.41, 88.82, 89.18, 89.52, 90.06, 89.96, 90.53, 90.95, 90.99, 91.31, 91.47, 91.77, 92.02, 92.13, 92.36, 92.34, 92.57, 93.01, 92.97, 93.34, 93.3, 93.5, 93.66, 93.72, 93.86, 94.12, 94.37, 94.43, 94.53, 94.81]\n",
            "[53.11, 64.75, 70.29, 71.06, 76.84, 78.5, 79.27, 79.72, 83.02, 83.02, 84.2, 84.78, 85.2, 85.74, 86.59, 86.59, 86.76, 86.76, 86.85, 86.85, 87.91, 87.91, 88.67, 88.67, 88.94, 88.94, 88.94, 89.18, 89.18, 89.18, 89.93, 89.93, 89.93, 89.93, 89.93, 89.93, 89.93, 90.35, 90.35, 90.41, 90.41, 90.41, 90.41, 90.41, 90.41, 90.41, 90.41, 90.41, 90.62, 90.62]\n"
          ]
        },
        {
          "output_type": "display_data",
          "data": {
            "text/plain": [
              "<Figure size 640x480 with 1 Axes>"
            ],
            "image/png": "[encoded data removed]"
          },
          "metadata": {}
        },
        {
          "output_type": "display_data",
          "data": {
            "text/plain": [
              "<Figure size 640x480 with 0 Axes>"
            ]
          },
          "metadata": {}
        }
      ]
    },
    {
      "cell_type": "code",
      "source": [],
      "metadata": {
        "id": "PAINIIcBauo-"
      },
      "execution_count": 51,
      "outputs": []
    }
  ],
  "metadata": {
    "colab": {
      "provenance": []
    },
    "kernelspec": {
      "display_name": "Python 3",
      "name": "python3"
    },
    "language_info": {
      "name": "python"
    },
    "gpuClass": "standard",
    "accelerator": "GPU"
  },
  "nbformat": 4,
  "nbformat_minor": 0
}