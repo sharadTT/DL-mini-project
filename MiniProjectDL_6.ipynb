{
  "cells": [
    {
      "cell_type": "code",
      "execution_count": 1,
      "metadata": {
        "id": "R28q6NNHzm_W"
      },
      "outputs": [],
      "source": [
        "# import required libraries\n",
        "import torch\n",
        "import torch.nn as nn\n",
        "import torch.nn.functional as f\n",
        "import torchvision\n",
        "import torchvision.transforms as transforms\n",
        "import torch.optim as optim\n",
        "import csv\n",
        "import torchvision.transforms as transforms\n",
        "\n",
        "#set seed for consistency and reproducibility\n",
        "torch.manual_seed(123)\n",
        "if torch.cuda.is_available:\n",
        "  torch.cuda.manual_seed_all(1234)"
      ]
    },
    {
      "cell_type": "code",
      "source": [
        "# Device configuration\n",
        "device = torch.device('cuda' if torch.cuda.is_available() else 'cpu')"
      ],
      "metadata": {
        "id": "Mh3N8bGPG7XG"
      },
      "execution_count": 2,
      "outputs": []
    },
    {
      "cell_type": "markdown",
      "source": [
        "Data Augmentation has been performed to increase accuracy"
      ],
      "metadata": {
        "id": "6pjGEXlvjMCE"
      }
    },
    {
      "cell_type": "code",
      "source": [
        "# transformation for test data - nomalizing test data\n",
        "test_transform = transforms.Compose([\n",
        "    transforms.ToTensor(),\n",
        "    transforms.Normalize((0.5, 0.5, 0.5), (0.5, 0.5, 0.5))\n",
        "])\n",
        "\n",
        "# transformation for train data \n",
        "train_transform = transforms.Compose([\n",
        "    transforms.RandomRotation(10), # Add random rotation with 10 degrees\n",
        "    transforms.ColorJitter(brightness=0.1, contrast=0.1, saturation=0.1, hue=0.1), # Add color jitter\n",
        "    transforms.RandomHorizontalFlip(), #apply horizontal flipping\n",
        "    transforms.RandomCrop(32, padding=4),\n",
        "    transforms.ToTensor(),\n",
        "    transforms.Normalize((0.5, 0.5, 0.5), (0.5, 0.5, 0.5))\n",
        "])\n",
        "\n",
        "# Create CIFAR-10 train dataset with updated data augmentation\n",
        "train_dataset = torchvision.datasets.CIFAR10(root='./data', train=True, transform=train_transform, download=True)\n",
        "\n",
        "# Create CIFAR-10 test dataset \n",
        "test_dataset = torchvision.datasets.CIFAR10(root='./data', train=False, transform=test_transform, download=True)\n",
        "\n",
        "# Create data loaders\n",
        "train_loader = torch.utils.data.DataLoader(train_dataset, batch_size=100, shuffle=True)\n",
        "test_loader = torch.utils.data.DataLoader(test_dataset, batch_size=100, shuffle=False)\n"
      ],
      "metadata": {
        "colab": {
          "base_uri": "https://localhost:8080/"
        },
        "id": "umTEDAMTbl5w",
        "outputId": "9e043a6b-eeaa-4c54-8984-c2d5a54dc0bb"
      },
      "execution_count": 3,
      "outputs": [
        {
          "output_type": "stream",
          "name": "stdout",
          "text": [
            "Downloading https://www.cs.toronto.edu/~kriz/cifar-10-python.tar.gz to ./data/cifar-10-python.tar.gz\n"
          ]
        },
        {
          "output_type": "stream",
          "name": "stderr",
          "text": [
            "100%|██████████| 170498071/170498071 [00:02<00:00, 63734530.27it/s]\n"
          ]
        },
        {
          "output_type": "stream",
          "name": "stdout",
          "text": [
            "Extracting ./data/cifar-10-python.tar.gz to ./data\n",
            "Files already downloaded and verified\n"
          ]
        }
      ]
    },
    {
      "cell_type": "code",
      "execution_count": 4,
      "metadata": {
        "id": "628WQLlZz4Ww"
      },
      "outputs": [],
      "source": [
        "class BasicBlock(nn.Module):\n",
        "    expansion = 1\n",
        "\n",
        "    def __init__(self, in_planes, planes, stride=1):\n",
        "        super(BasicBlock, self).__init__()\n",
        "        #in_planes = input chanel size\n",
        "        #planes = output chanel size\n",
        "        #convolution later 1\n",
        "        self.conv1 = nn.Conv2d(\n",
        "            in_planes, planes, kernel_size=3, stride=stride, padding=1, bias=False)\n",
        "        #batch norm 1\n",
        "        self.bn1 = nn.BatchNorm2d(planes)\n",
        "        #convolution layer 2\n",
        "        self.conv2 = nn.Conv2d(planes, planes, kernel_size=3,\n",
        "                               stride=1, padding=1, bias=False)\n",
        "        #batch norm 2\n",
        "        self.bn2 = nn.BatchNorm2d(planes)\n",
        "\n",
        "        #skip connection\n",
        "        self.shortcut = nn.Sequential()\n",
        "        if stride != 1 or in_planes != self.expansion*planes:\n",
        "            self.shortcut = nn.Sequential(\n",
        "                nn.Conv2d(in_planes, self.expansion*planes,\n",
        "                          kernel_size=1, stride=stride, bias=False),\n",
        "                nn.BatchNorm2d(self.expansion*planes)\n",
        "            )\n",
        "\n",
        "    #forward pass of res-net\n",
        "    def forward(self, x):\n",
        "        out = f.relu(self.bn1(self.conv1(x)))\n",
        "        out = self.bn2(self.conv2(out))\n",
        "        out += self.shortcut(x)\n",
        "        out = f.relu(out)\n",
        "        return out\n"
      ]
    },
    {
      "cell_type": "code",
      "source": [
        "#to edit the number of channels\n",
        "channels = [32, 64, 128, 256]"
      ],
      "metadata": {
        "id": "7NPcNSOW58OY"
      },
      "execution_count": 5,
      "outputs": []
    },
    {
      "cell_type": "markdown",
      "source": [
        "- Here the averge pool layer has been removed and the parameters for the linear layer have been adjusted accordingly\n",
        "- Drop out layer has also been added for regularization"
      ],
      "metadata": {
        "id": "4TTCxrYTJhAb"
      }
    },
    {
      "cell_type": "code",
      "execution_count": 6,
      "metadata": {
        "id": "2qK4hpdS0JTa"
      },
      "outputs": [],
      "source": [
        "class ResNet(nn.Module):\n",
        "    def __init__(self, channels, block, num_blocks, num_classes=10):\n",
        "        super(ResNet, self).__init__()\n",
        "        self.in_planes = channels[0]\n",
        "        dropout_probability = 0.175\n",
        "        self.conv1 = nn.Conv2d(3, channels[0], kernel_size=3,\n",
        "                               stride=1, padding=1, bias=False)\n",
        "        self.bn1 = nn.BatchNorm2d(channels[0])\n",
        "        self.layer1 = self._make_layer(block, channels[0], num_blocks[0], stride=1)\n",
        "        self.layer2 = self._make_layer(block, channels[1], num_blocks[1], stride=2)\n",
        "        self.layer3 = self._make_layer(block, channels[2], num_blocks[2], stride=2)\n",
        "        self.layer4 = self._make_layer(block, channels[3], num_blocks[3], stride=2)\n",
        "        self.linear = nn.Linear(channels[3]*4*4, num_classes)\n",
        "\n",
        "        # Dropout layer\n",
        "        self.dropout = nn.Dropout(dropout_probability)\n",
        "\n",
        "    def _make_layer(self, block, planes, num_blocks, stride):\n",
        "        strides = [stride] + [1]*(num_blocks-1)\n",
        "        layers = []\n",
        "        for stride in strides:\n",
        "            layers.append(block(self.in_planes, planes, stride))\n",
        "            self.in_planes = planes \n",
        "        return nn.Sequential(*layers)\n",
        "\n",
        "    def forward(self, x):\n",
        "        out = f.relu(self.bn1(self.conv1(x)))\n",
        "        out = self.layer1(out)\n",
        "        out = self.layer2(out)\n",
        "        # comment the line below to remove dropout layer\n",
        "        #out = self.dropout(out)\n",
        "        out = self.layer3(out)\n",
        "        out = self.layer4(out)\n",
        "        # out = f.avg_pool2d(out, 4)\n",
        "        out = out.view(out.size(0), -1)\n",
        "\n",
        "        # Apply dropout\n",
        "        out = self.dropout(out)\n",
        "\n",
        "        out = self.linear(out)\n",
        "        return out"
      ]
    },
    {
      "cell_type": "code",
      "execution_count": 7,
      "metadata": {
        "id": "4z7f76cw0XCN"
      },
      "outputs": [],
      "source": [
        "def ResNet18():\n",
        "    return ResNet(channels, BasicBlock, [2, 2, 2, 2])"
      ]
    },
    {
      "cell_type": "markdown",
      "metadata": {
        "id": "PMSAYFYK0-82"
      },
      "source": [
        "5 million = 5,000,000"
      ]
    },
    {
      "cell_type": "code",
      "execution_count": 8,
      "metadata": {
        "colab": {
          "base_uri": "https://localhost:8080/"
        },
        "id": "Sx-8MjEL0fcI",
        "outputId": "95285fc4-c641-4730-b10a-3457f277e11e"
      },
      "outputs": [
        {
          "output_type": "stream",
          "name": "stdout",
          "text": [
            "Number of parameters:  2836010\n"
          ]
        }
      ],
      "source": [
        "# Create an instance of ResNet18\n",
        "model = ResNet18()\n",
        "model.to(device)\n",
        "\n",
        "# Count the number of parameters\n",
        "num_params = sum(p.numel() for p in model.parameters())\n",
        "print(\"Number of parameters: \", num_params)\n",
        "\n",
        "# Loss function\n",
        "criterion = nn.CrossEntropyLoss()\n",
        "\n",
        "# Optimizer\n",
        "optimizer = optim.Adam(model.parameters(), lr=1e-3)\n",
        "#uncomment the below line for lr scheduling\n",
        "scheduler = torch.optim.lr_scheduler.CosineAnnealingLR(optimizer, T_max=200)\n"
      ]
    },
    {
      "cell_type": "code",
      "execution_count": 9,
      "metadata": {
        "id": "zYjCDpV8n6SL"
      },
      "outputs": [],
      "source": [
        "def train_model(epoch):\n",
        "  # num_batches = torch.ceil(torch.tensor(len(train_dataset)/100)).item()\n",
        "  model.train()\n",
        "  train_acc = 0\n",
        "  epoch_loss = 0\n",
        "  for i, (images, labels) in enumerate(train_loader):\n",
        "      images = images.to(device)\n",
        "      labels = labels.to(device)\n",
        "      # print(train_loader, len(train_loader))\n",
        "      # Forward pass\n",
        "      output = model(images)\n",
        "      loss = criterion(output, labels)\n",
        "      # acc = calculate_accuracy(output, labels)\n",
        "      _, predicted = torch.max(output.data, 1)\n",
        "      # Backward and optimize\n",
        "      optimizer.zero_grad()\n",
        "      loss.backward()\n",
        "      optimizer.step()\n",
        "      # epoch_acc += acc\n",
        "      train_acc += (labels == predicted).sum().item()\n",
        "      epoch_loss += loss.item()\n",
        "      \n",
        "       \n",
        "\n",
        "  print(f'Epoch [{epoch+1}/{num_epochs}], Loss: {epoch_loss / len(train_loader):.4f}, Accuracy: {train_acc / len(train_dataset)}')\n",
        "  return round((train_acc / len(train_dataset))*100,2)"
      ]
    },
    {
      "cell_type": "code",
      "execution_count": 10,
      "metadata": {
        "id": "mV0pNfnioc6G"
      },
      "outputs": [],
      "source": [
        "# Test the model\n",
        "def model_eval(best_acc):\n",
        "  model.eval()\n",
        "  with torch.no_grad():\n",
        "      correct = 0\n",
        "      total = 0\n",
        "      for images, labels in test_loader:\n",
        "          images = images.to(device)\n",
        "          labels = labels.to(device)\n",
        "          outputs = model(images)\n",
        "          _, predicted = torch.max(outputs.data, 1)\n",
        "          total += labels.size(0)\n",
        "          correct += (predicted == labels).sum().item()\n",
        "\n",
        "  # Print the accuracy\n",
        "  accuracy = 100 * correct / total\n",
        "  print(f'Test Accuracy: {accuracy:.2f}%')\n",
        "  if accuracy>best_acc:\n",
        "    # Save the model checkpoint\n",
        "    torch.save(model.state_dict(), 'resnet.ckpt')\n",
        "  return accuracy"
      ]
    },
    {
      "cell_type": "code",
      "source": [
        "# Training loop\n",
        "num_epochs = 35\n",
        "best_acc = 0\n",
        "train_accuracies = []\n",
        "test_accuracies = []\n",
        "for epoch in range(num_epochs):\n",
        "  train_accuracies.append(train_model(epoch))\n",
        "  #if (epoch+1)%5==0:\n",
        "  best_acc = max(best_acc, model_eval(best_acc))\n",
        "  test_accuracies.append(best_acc)\n",
        "  scheduler.step() #uncomment while implementing lr scheduling\n"
      ],
      "metadata": {
        "id": "4v3qffoy9GYJ",
        "colab": {
          "base_uri": "https://localhost:8080/"
        },
        "outputId": "4b1d5754-558e-4fcd-f79b-f07c2c57de76"
      },
      "execution_count": 11,
      "outputs": [
        {
          "output_type": "stream",
          "name": "stdout",
          "text": [
            "Epoch [1/35], Loss: 1.7549, Accuracy: 0.38364\n",
            "Test Accuracy: 52.93%\n",
            "Epoch [2/35], Loss: 1.2592, Accuracy: 0.55186\n",
            "Test Accuracy: 62.09%\n",
            "Epoch [3/35], Loss: 1.0249, Accuracy: 0.6376\n",
            "Test Accuracy: 69.80%\n",
            "Epoch [4/35], Loss: 0.8783, Accuracy: 0.69252\n",
            "Test Accuracy: 73.65%\n",
            "Epoch [5/35], Loss: 0.7907, Accuracy: 0.72528\n",
            "Test Accuracy: 74.95%\n",
            "Epoch [6/35], Loss: 0.7148, Accuracy: 0.7496\n",
            "Test Accuracy: 77.28%\n",
            "Epoch [7/35], Loss: 0.6542, Accuracy: 0.77348\n",
            "Test Accuracy: 80.11%\n",
            "Epoch [8/35], Loss: 0.6143, Accuracy: 0.78666\n",
            "Test Accuracy: 78.76%\n",
            "Epoch [9/35], Loss: 0.5694, Accuracy: 0.80188\n",
            "Test Accuracy: 82.43%\n",
            "Epoch [10/35], Loss: 0.5363, Accuracy: 0.81486\n",
            "Test Accuracy: 80.14%\n",
            "Epoch [11/35], Loss: 0.5074, Accuracy: 0.8231\n",
            "Test Accuracy: 83.96%\n",
            "Epoch [12/35], Loss: 0.4833, Accuracy: 0.83124\n",
            "Test Accuracy: 84.42%\n",
            "Epoch [13/35], Loss: 0.4620, Accuracy: 0.84054\n",
            "Test Accuracy: 84.02%\n",
            "Epoch [14/35], Loss: 0.4396, Accuracy: 0.84952\n",
            "Test Accuracy: 85.21%\n",
            "Epoch [15/35], Loss: 0.4196, Accuracy: 0.85512\n",
            "Test Accuracy: 86.11%\n",
            "Epoch [16/35], Loss: 0.3981, Accuracy: 0.86252\n",
            "Test Accuracy: 86.03%\n",
            "Epoch [17/35], Loss: 0.3860, Accuracy: 0.86676\n",
            "Test Accuracy: 86.38%\n",
            "Epoch [18/35], Loss: 0.3760, Accuracy: 0.86996\n",
            "Test Accuracy: 87.09%\n",
            "Epoch [19/35], Loss: 0.3579, Accuracy: 0.87724\n",
            "Test Accuracy: 86.79%\n",
            "Epoch [20/35], Loss: 0.3393, Accuracy: 0.88138\n",
            "Test Accuracy: 87.32%\n",
            "Epoch [21/35], Loss: 0.3312, Accuracy: 0.88502\n",
            "Test Accuracy: 88.42%\n",
            "Epoch [22/35], Loss: 0.3215, Accuracy: 0.88798\n",
            "Test Accuracy: 87.62%\n",
            "Epoch [23/35], Loss: 0.3079, Accuracy: 0.8921\n",
            "Test Accuracy: 88.48%\n",
            "Epoch [24/35], Loss: 0.2987, Accuracy: 0.89598\n",
            "Test Accuracy: 89.03%\n",
            "Epoch [25/35], Loss: 0.2834, Accuracy: 0.90086\n",
            "Test Accuracy: 88.79%\n",
            "Epoch [26/35], Loss: 0.2807, Accuracy: 0.90136\n",
            "Test Accuracy: 89.24%\n",
            "Epoch [27/35], Loss: 0.2724, Accuracy: 0.9053\n",
            "Test Accuracy: 88.88%\n",
            "Epoch [28/35], Loss: 0.2601, Accuracy: 0.90936\n",
            "Test Accuracy: 89.04%\n",
            "Epoch [29/35], Loss: 0.2514, Accuracy: 0.9125\n",
            "Test Accuracy: 89.41%\n",
            "Epoch [30/35], Loss: 0.2455, Accuracy: 0.9158\n",
            "Test Accuracy: 89.23%\n",
            "Epoch [31/35], Loss: 0.2361, Accuracy: 0.91678\n",
            "Test Accuracy: 89.39%\n",
            "Epoch [32/35], Loss: 0.2298, Accuracy: 0.91926\n",
            "Test Accuracy: 89.68%\n",
            "Epoch [33/35], Loss: 0.2254, Accuracy: 0.92098\n",
            "Test Accuracy: 89.97%\n",
            "Epoch [34/35], Loss: 0.2154, Accuracy: 0.92556\n",
            "Test Accuracy: 89.27%\n",
            "Epoch [35/35], Loss: 0.2074, Accuracy: 0.92766\n",
            "Test Accuracy: 89.92%\n"
          ]
        }
      ]
    },
    {
      "cell_type": "code",
      "source": [
        "import matplotlib.pyplot as plt\n",
        "import matplotlib.ticker as plticker\n",
        "import numpy as np\n",
        "\n",
        "# Generate two arrays for comparison\n",
        "x = np.arange(1, 36) # Array of x values\n",
        "y1 =  train_accuracies\n",
        "y2 = test_accuracies\n",
        "# print(len(y1))\n",
        "# print(len(y2))\n",
        "print(y1)\n",
        "print(y2)\n",
        "\n",
        "# Create the line graph\n",
        "plt.plot(x, y1, label='Train accuracy')\n",
        "plt.plot(x, y2, label='Test accuracy')\n",
        "\n",
        "loc = plticker.MultipleLocator(base=5.0) # this locator puts ticks at regular intervals\n",
        "plt.gca().xaxis.set_major_locator(loc)\n",
        "\n",
        "# Add labels and title\n",
        "plt.xlabel('Epochs')\n",
        "plt.ylabel('Accuracies')\n",
        "plt.title('Test and Train accuracies')\n",
        "\n",
        "# Add a legend\n",
        "plt.legend()\n",
        "\n",
        "# Show the plot\n",
        "plt.show()\n",
        "\n",
        "# Save the graph as a PNG image\n",
        "plt.savefig('graph.png')"
      ],
      "metadata": {
        "colab": {
          "base_uri": "https://localhost:8080/",
          "height": 544
        },
        "id": "j1yj2y8rzSL0",
        "outputId": "4cd82f9d-0ddd-4ed1-de83-32b7cf5210e2"
      },
      "execution_count": 15,
      "outputs": [
        {
          "output_type": "stream",
          "name": "stdout",
          "text": [
            "[38.36, 55.19, 63.76, 69.25, 72.53, 74.96, 77.35, 78.67, 80.19, 81.49, 82.31, 83.12, 84.05, 84.95, 85.51, 86.25, 86.68, 87.0, 87.72, 88.14, 88.5, 88.8, 89.21, 89.6, 90.09, 90.14, 90.53, 90.94, 91.25, 91.58, 91.68, 91.93, 92.1, 92.56, 92.77]\n",
            "[52.93, 62.09, 69.8, 73.65, 74.95, 77.28, 80.11, 80.11, 82.43, 82.43, 83.96, 84.42, 84.42, 85.21, 86.11, 86.11, 86.38, 87.09, 87.09, 87.32, 88.42, 88.42, 88.48, 89.03, 89.03, 89.24, 89.24, 89.24, 89.41, 89.41, 89.41, 89.68, 89.97, 89.97, 89.97]\n"
          ]
        },
        {
          "output_type": "display_data",
          "data": {
            "text/plain": [
              "<Figure size 640x480 with 1 Axes>"
            ],
            "image/png": "[encoded data removed]"
          },
          "metadata": {}
        },
        {
          "output_type": "display_data",
          "data": {
            "text/plain": [
              "<Figure size 640x480 with 0 Axes>"
            ]
          },
          "metadata": {}
        }
      ]
    },
    {
      "cell_type": "code",
      "source": [],
      "metadata": {
        "id": "PAINIIcBauo-"
      },
      "execution_count": null,
      "outputs": []
    }
  ],
  "metadata": {
    "colab": {
      "provenance": []
    },
    "kernelspec": {
      "display_name": "Python 3",
      "name": "python3"
    },
    "language_info": {
      "name": "python"
    },
    "gpuClass": "standard",
    "accelerator": "GPU"
  },
  "nbformat": 4,
  "nbformat_minor": 0
}