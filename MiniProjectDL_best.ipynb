{
  "cells": [
    {
      "cell_type": "code",
      "execution_count": 1,
      "metadata": {
        "id": "R28q6NNHzm_W"
      },
      "outputs": [],
      "source": [
        "# import required libraries\n",
        "import torch\n",
        "import torch.nn as nn\n",
        "import torch.nn.functional as f\n",
        "import torchvision\n",
        "import torchvision.transforms as transforms\n",
        "import torch.optim as optim\n",
        "import csv\n",
        "import torchvision.transforms as transforms\n",
        "\n",
        "#set seed for consistency and reproducibility\n",
        "torch.manual_seed(123)\n",
        "if torch.cuda.is_available:\n",
        "  torch.cuda.manual_seed_all(1234)"
      ]
    },
    {
      "cell_type": "code",
      "execution_count": 2,
      "metadata": {
        "id": "Mh3N8bGPG7XG"
      },
      "outputs": [],
      "source": [
        "# Device configuration\n",
        "device = torch.device('cuda' if torch.cuda.is_available() else 'cpu')"
      ]
    },
    {
      "cell_type": "markdown",
      "metadata": {
        "id": "6pjGEXlvjMCE"
      },
      "source": [
        "Data Augmentation has been performed to increase accuracy"
      ]
    },
    {
      "cell_type": "code",
      "execution_count": 3,
      "metadata": {
        "colab": {
          "base_uri": "https://localhost:8080/"
        },
        "id": "umTEDAMTbl5w",
        "outputId": "3dc73e3a-a1bf-4f0a-863b-3c89e3631341"
      },
      "outputs": [
        {
          "output_type": "stream",
          "name": "stdout",
          "text": [
            "Downloading https://www.cs.toronto.edu/~kriz/cifar-10-python.tar.gz to ./data/cifar-10-python.tar.gz\n"
          ]
        },
        {
          "output_type": "stream",
          "name": "stderr",
          "text": [
            "100%|██████████| 170498071/170498071 [00:13<00:00, 12842638.82it/s]\n"
          ]
        },
        {
          "output_type": "stream",
          "name": "stdout",
          "text": [
            "Extracting ./data/cifar-10-python.tar.gz to ./data\n",
            "Files already downloaded and verified\n"
          ]
        }
      ],
      "source": [
        "# transformation for test data - nomalizing test data\n",
        "test_transform = transforms.Compose([\n",
        "    transforms.ToTensor(),\n",
        "    transforms.Normalize((0.5, 0.5, 0.5), (0.5, 0.5, 0.5))\n",
        "])\n",
        "\n",
        "# transformation for train data \n",
        "train_transform = transforms.Compose([\n",
        "    transforms.RandomRotation(10), # Add random rotation with 10 degrees\n",
        "    transforms.ColorJitter(brightness=0.1, contrast=0.1, saturation=0.1, hue=0.1), # Add color jitter\n",
        "    transforms.RandomHorizontalFlip(), #apply horizontal flipping\n",
        "    transforms.RandomCrop(32, padding=4),\n",
        "    transforms.ToTensor(),\n",
        "    transforms.Normalize((0.5, 0.5, 0.5), (0.5, 0.5, 0.5))\n",
        "])\n",
        "\n",
        "# Create CIFAR-10 train dataset with updated data augmentation\n",
        "train_dataset = torchvision.datasets.CIFAR10(root='./data', train=True, transform=train_transform, download=True)\n",
        "\n",
        "# Create CIFAR-10 test dataset \n",
        "test_dataset = torchvision.datasets.CIFAR10(root='./data', train=False, transform=test_transform, download=True)\n",
        "\n",
        "# Create data loaders\n",
        "train_loader = torch.utils.data.DataLoader(train_dataset, batch_size=100, shuffle=True)\n",
        "test_loader = torch.utils.data.DataLoader(test_dataset, batch_size=100, shuffle=False)\n"
      ]
    },
    {
      "cell_type": "code",
      "execution_count": 4,
      "metadata": {
        "id": "628WQLlZz4Ww"
      },
      "outputs": [],
      "source": [
        "class BasicBlock(nn.Module):\n",
        "    expansion = 1\n",
        "\n",
        "    def __init__(self, in_planes, planes, stride=1):\n",
        "        super(BasicBlock, self).__init__()\n",
        "        #in_planes = input chanel size\n",
        "        #planes = output chanel size\n",
        "        #convolution later 1\n",
        "        self.conv1 = nn.Conv2d(\n",
        "            in_planes, planes, kernel_size=3, stride=stride, padding=1, bias=False)\n",
        "        #batch norm 1\n",
        "        self.bn1 = nn.BatchNorm2d(planes)\n",
        "        #convolution layer 2\n",
        "        self.conv2 = nn.Conv2d(planes, planes, kernel_size=3,\n",
        "                               stride=1, padding=1, bias=False)\n",
        "        #batch norm 2\n",
        "        self.bn2 = nn.BatchNorm2d(planes)\n",
        "\n",
        "        #skip connection\n",
        "        self.shortcut = nn.Sequential()\n",
        "        if stride != 1 or in_planes != self.expansion*planes:\n",
        "            self.shortcut = nn.Sequential(\n",
        "                nn.Conv2d(in_planes, self.expansion*planes,\n",
        "                          kernel_size=1, stride=stride, bias=False),\n",
        "                nn.BatchNorm2d(self.expansion*planes)\n",
        "            )\n",
        "\n",
        "    #forward pass of res-net\n",
        "    def forward(self, x):\n",
        "        out = f.relu(self.bn1(self.conv1(x)))\n",
        "        out = self.bn2(self.conv2(out))\n",
        "        out += self.shortcut(x)\n",
        "        out = f.relu(out)\n",
        "        return out\n"
      ]
    },
    {
      "cell_type": "code",
      "execution_count": 5,
      "metadata": {
        "id": "7NPcNSOW58OY"
      },
      "outputs": [],
      "source": [
        "#to edit the number of channels\n",
        "channels = [32, 64, 256, 256]"
      ]
    },
    {
      "cell_type": "markdown",
      "metadata": {
        "id": "4TTCxrYTJhAb"
      },
      "source": [
        "- Here the averge pool layer has been removed and the parameters for the linear layer have been adjusted accordingly\n",
        "- Drop out layer has also been added for regularization"
      ]
    },
    {
      "cell_type": "code",
      "execution_count": 6,
      "metadata": {
        "id": "2qK4hpdS0JTa"
      },
      "outputs": [],
      "source": [
        "class ResNet(nn.Module):\n",
        "    def __init__(self, channels, block, num_blocks, num_classes=10):\n",
        "        super(ResNet, self).__init__()\n",
        "        self.in_planes = channels[0]\n",
        "        dropout_probability = 0.175\n",
        "        self.conv1 = nn.Conv2d(3, channels[0], kernel_size=3,\n",
        "                               stride=1, padding=1, bias=False)\n",
        "        self.bn1 = nn.BatchNorm2d(channels[0])\n",
        "        self.layer1 = self._make_layer(block, channels[0], num_blocks[0], stride=1)\n",
        "        self.layer2 = self._make_layer(block, channels[1], num_blocks[1], stride=2)\n",
        "        self.layer3 = self._make_layer(block, channels[2], num_blocks[2], stride=2)\n",
        "        self.layer4 = self._make_layer(block, channels[3], num_blocks[3], stride=2)\n",
        "        self.linear = nn.Linear(channels[3]*4*4, num_classes)\n",
        "\n",
        "        # Dropout layer\n",
        "        self.dropout = nn.Dropout(dropout_probability)\n",
        "\n",
        "    def _make_layer(self, block, planes, num_blocks, stride):\n",
        "        strides = [stride] + [1]*(num_blocks-1)\n",
        "        layers = []\n",
        "        for stride in strides:\n",
        "            layers.append(block(self.in_planes, planes, stride))\n",
        "            self.in_planes = planes \n",
        "        return nn.Sequential(*layers)\n",
        "\n",
        "    def forward(self, x):\n",
        "        out = f.relu(self.bn1(self.conv1(x)))\n",
        "        out = self.layer1(out)\n",
        "        out = self.layer2(out)\n",
        "        # comment the line below to remove dropout layer\n",
        "        #out = self.dropout(out)\n",
        "        out = self.layer3(out)\n",
        "        out = self.layer4(out)\n",
        "        # out = f.avg_pool2d(out, 4)\n",
        "        out = out.view(out.size(0), -1)\n",
        "\n",
        "        # Apply dropout\n",
        "        out = self.dropout(out)\n",
        "\n",
        "        out = self.linear(out)\n",
        "        return out"
      ]
    },
    {
      "cell_type": "code",
      "execution_count": 8,
      "metadata": {
        "id": "4z7f76cw0XCN"
      },
      "outputs": [],
      "source": [
        "def ResNet18():\n",
        "    return ResNet(channels, BasicBlock, [2, 2, 2, 2])"
      ]
    },
    {
      "cell_type": "markdown",
      "metadata": {
        "id": "PMSAYFYK0-82"
      },
      "source": [
        "5 million = 5,000,000"
      ]
    },
    {
      "cell_type": "code",
      "execution_count": 9,
      "metadata": {
        "colab": {
          "base_uri": "https://localhost:8080/"
        },
        "id": "Sx-8MjEL0fcI",
        "outputId": "1425d6e3-f8f9-4c3a-f55b-7e031bc757c8"
      },
      "outputs": [
        {
          "output_type": "stream",
          "name": "stdout",
          "text": [
            "Number of parameters:  4573994\n"
          ]
        }
      ],
      "source": [
        "# Create an instance of ResNet18\n",
        "model = ResNet18()\n",
        "model.to(device)\n",
        "\n",
        "# Count the number of parameters\n",
        "num_params = sum(p.numel() for p in model.parameters())\n",
        "print(\"Number of parameters: \", num_params)\n",
        "\n",
        "# Loss function\n",
        "criterion = nn.CrossEntropyLoss()\n",
        "\n",
        "# Optimizer\n",
        "optimizer = optim.Adam(model.parameters(), lr=1e-3)\n",
        "#uncomment the below line for lr scheduling\n",
        "# scheduler = torch.optim.lr_scheduler.CosineAnnealingLR(optimizer, T_max=200)\n"
      ]
    },
    {
      "cell_type": "code",
      "execution_count": 10,
      "metadata": {
        "id": "zYjCDpV8n6SL"
      },
      "outputs": [],
      "source": [
        "def train_model(epoch):\n",
        "  # num_batches = torch.ceil(torch.tensor(len(train_dataset)/100)).item()\n",
        "  model.train()\n",
        "  train_acc = 0\n",
        "  epoch_loss = 0\n",
        "  for i, (images, labels) in enumerate(train_loader):\n",
        "      images = images.to(device)\n",
        "      labels = labels.to(device)\n",
        "      # print(train_loader, len(train_loader))\n",
        "      # Forward pass\n",
        "      output = model(images)\n",
        "      loss = criterion(output, labels)\n",
        "      # acc = calculate_accuracy(output, labels)\n",
        "      _, predicted = torch.max(output.data, 1)\n",
        "      # Backward and optimize\n",
        "      optimizer.zero_grad()\n",
        "      loss.backward()\n",
        "      optimizer.step()\n",
        "      # epoch_acc += acc\n",
        "      train_acc += (labels == predicted).sum().item()\n",
        "      epoch_loss += loss.item()\n",
        "      \n",
        "       \n",
        "\n",
        "  print(f'Epoch [{epoch+1}/{num_epochs}], Loss: {epoch_loss / len(train_loader):.4f}, Accuracy: {train_acc / len(train_dataset)}')\n",
        "  return round((train_acc / len(train_dataset))*100,2)"
      ]
    },
    {
      "cell_type": "code",
      "execution_count": 11,
      "metadata": {
        "id": "mV0pNfnioc6G"
      },
      "outputs": [],
      "source": [
        "# Test the model\n",
        "def model_eval(best_acc):\n",
        "  model.eval()\n",
        "  with torch.no_grad():\n",
        "      correct = 0\n",
        "      total = 0\n",
        "      for images, labels in test_loader:\n",
        "          images = images.to(device)\n",
        "          labels = labels.to(device)\n",
        "          outputs = model(images)\n",
        "          _, predicted = torch.max(outputs.data, 1)\n",
        "          total += labels.size(0)\n",
        "          correct += (predicted == labels).sum().item()\n",
        "\n",
        "  # Print the accuracy\n",
        "  accuracy = 100 * correct / total\n",
        "  print(f'Test Accuracy: {accuracy:.2f}%')\n",
        "  if accuracy>best_acc:\n",
        "    # Save the model checkpoint\n",
        "    torch.save(model.state_dict(), 'resnet.ckpt')\n",
        "  return accuracy"
      ]
    },
    {
      "cell_type": "code",
      "execution_count": 12,
      "metadata": {
        "colab": {
          "base_uri": "https://localhost:8080/"
        },
        "id": "4v3qffoy9GYJ",
        "outputId": "69fcdff1-c34d-4369-b39c-7a44dafaeb00"
      },
      "outputs": [
        {
          "output_type": "stream",
          "name": "stdout",
          "text": [
            "Epoch [1/50], Loss: 1.7967, Accuracy: 0.36846\n",
            "Test Accuracy: 50.84%\n",
            "Epoch [2/50], Loss: 1.2974, Accuracy: 0.53296\n",
            "Test Accuracy: 59.71%\n",
            "Epoch [3/50], Loss: 1.0670, Accuracy: 0.6201\n",
            "Test Accuracy: 68.14%\n",
            "Epoch [4/50], Loss: 0.9060, Accuracy: 0.68128\n",
            "Test Accuracy: 70.97%\n",
            "Epoch [5/50], Loss: 0.8058, Accuracy: 0.71728\n",
            "Test Accuracy: 76.03%\n",
            "Epoch [6/50], Loss: 0.7169, Accuracy: 0.75012\n",
            "Test Accuracy: 77.85%\n",
            "Epoch [7/50], Loss: 0.6567, Accuracy: 0.77338\n",
            "Test Accuracy: 79.89%\n",
            "Epoch [8/50], Loss: 0.6044, Accuracy: 0.79076\n",
            "Test Accuracy: 81.21%\n",
            "Epoch [9/50], Loss: 0.5602, Accuracy: 0.80644\n",
            "Test Accuracy: 83.83%\n",
            "Epoch [10/50], Loss: 0.5335, Accuracy: 0.81674\n",
            "Test Accuracy: 83.21%\n",
            "Epoch [11/50], Loss: 0.4997, Accuracy: 0.82596\n",
            "Test Accuracy: 84.07%\n",
            "Epoch [12/50], Loss: 0.4760, Accuracy: 0.83594\n",
            "Test Accuracy: 85.20%\n",
            "Epoch [13/50], Loss: 0.4495, Accuracy: 0.84542\n",
            "Test Accuracy: 85.48%\n",
            "Epoch [14/50], Loss: 0.4232, Accuracy: 0.85418\n",
            "Test Accuracy: 86.04%\n",
            "Epoch [15/50], Loss: 0.4043, Accuracy: 0.85888\n",
            "Test Accuracy: 87.28%\n",
            "Epoch [16/50], Loss: 0.3904, Accuracy: 0.86482\n",
            "Test Accuracy: 87.26%\n",
            "Epoch [17/50], Loss: 0.3656, Accuracy: 0.87446\n",
            "Test Accuracy: 87.06%\n",
            "Epoch [18/50], Loss: 0.3508, Accuracy: 0.87862\n",
            "Test Accuracy: 88.56%\n",
            "Epoch [19/50], Loss: 0.3300, Accuracy: 0.88556\n",
            "Test Accuracy: 86.51%\n",
            "Epoch [20/50], Loss: 0.3271, Accuracy: 0.88644\n",
            "Test Accuracy: 87.90%\n",
            "Epoch [21/50], Loss: 0.3121, Accuracy: 0.89084\n",
            "Test Accuracy: 86.64%\n",
            "Epoch [22/50], Loss: 0.2951, Accuracy: 0.897\n",
            "Test Accuracy: 88.20%\n",
            "Epoch [23/50], Loss: 0.2856, Accuracy: 0.90144\n",
            "Test Accuracy: 88.68%\n",
            "Epoch [24/50], Loss: 0.2737, Accuracy: 0.90438\n",
            "Test Accuracy: 88.56%\n",
            "Epoch [25/50], Loss: 0.2648, Accuracy: 0.90698\n",
            "Test Accuracy: 89.37%\n",
            "Epoch [26/50], Loss: 0.2479, Accuracy: 0.91342\n",
            "Test Accuracy: 88.72%\n",
            "Epoch [27/50], Loss: 0.2425, Accuracy: 0.91394\n",
            "Test Accuracy: 90.11%\n",
            "Epoch [28/50], Loss: 0.2355, Accuracy: 0.91864\n",
            "Test Accuracy: 88.92%\n",
            "Epoch [29/50], Loss: 0.2220, Accuracy: 0.92286\n",
            "Test Accuracy: 89.89%\n",
            "Epoch [30/50], Loss: 0.2140, Accuracy: 0.92452\n",
            "Test Accuracy: 89.90%\n",
            "Epoch [31/50], Loss: 0.2078, Accuracy: 0.9263\n",
            "Test Accuracy: 90.47%\n",
            "Epoch [32/50], Loss: 0.1969, Accuracy: 0.93128\n",
            "Test Accuracy: 89.82%\n",
            "Epoch [33/50], Loss: 0.1957, Accuracy: 0.93188\n",
            "Test Accuracy: 90.38%\n",
            "Epoch [34/50], Loss: 0.1866, Accuracy: 0.93488\n",
            "Test Accuracy: 90.53%\n",
            "Epoch [35/50], Loss: 0.1854, Accuracy: 0.93408\n",
            "Test Accuracy: 91.02%\n",
            "Epoch [36/50], Loss: 0.1757, Accuracy: 0.93836\n",
            "Test Accuracy: 90.79%\n",
            "Epoch [37/50], Loss: 0.1690, Accuracy: 0.94014\n",
            "Test Accuracy: 91.08%\n",
            "Epoch [38/50], Loss: 0.1661, Accuracy: 0.94182\n",
            "Test Accuracy: 90.33%\n",
            "Epoch [39/50], Loss: 0.1566, Accuracy: 0.9463\n",
            "Test Accuracy: 90.82%\n",
            "Epoch [40/50], Loss: 0.1541, Accuracy: 0.94522\n",
            "Test Accuracy: 89.89%\n",
            "Epoch [41/50], Loss: 0.1488, Accuracy: 0.94788\n",
            "Test Accuracy: 90.68%\n",
            "Epoch [42/50], Loss: 0.1429, Accuracy: 0.95042\n",
            "Test Accuracy: 90.67%\n",
            "Epoch [43/50], Loss: 0.1402, Accuracy: 0.951\n",
            "Test Accuracy: 90.89%\n",
            "Epoch [44/50], Loss: 0.1358, Accuracy: 0.95156\n",
            "Test Accuracy: 90.87%\n",
            "Epoch [45/50], Loss: 0.1278, Accuracy: 0.9552\n",
            "Test Accuracy: 91.15%\n",
            "Epoch [46/50], Loss: 0.1290, Accuracy: 0.95434\n",
            "Test Accuracy: 91.42%\n",
            "Epoch [47/50], Loss: 0.1276, Accuracy: 0.95474\n",
            "Test Accuracy: 91.59%\n",
            "Epoch [48/50], Loss: 0.1233, Accuracy: 0.95688\n",
            "Test Accuracy: 91.24%\n",
            "Epoch [49/50], Loss: 0.1218, Accuracy: 0.95644\n",
            "Test Accuracy: 90.73%\n",
            "Epoch [50/50], Loss: 0.1187, Accuracy: 0.95858\n",
            "Test Accuracy: 91.15%\n"
          ]
        }
      ],
      "source": [
        "# Training loop\n",
        "num_epochs = 50\n",
        "best_acc = 0\n",
        "train_accuracies = []\n",
        "test_accuracies = []\n",
        "for epoch in range(num_epochs):\n",
        "  train_accuracies.append(train_model(epoch))\n",
        "  #if (epoch+1)%5==0:\n",
        "  best_acc = max(best_acc, model_eval(best_acc))\n",
        "  test_accuracies.append(best_acc)\n",
        "  # scheduler.step() #uncomment while implementing lr scheduling\n"
      ]
    },
    {
      "cell_type": "code",
      "execution_count": 16,
      "metadata": {
        "id": "j1yj2y8rzSL0",
        "colab": {
          "base_uri": "https://localhost:8080/",
          "height": 561
        },
        "outputId": "04137ff8-40af-475b-d06f-6e46f6b7bee9"
      },
      "outputs": [
        {
          "output_type": "stream",
          "name": "stdout",
          "text": [
            "[36.85, 53.3, 62.01, 68.13, 71.73, 75.01, 77.34, 79.08, 80.64, 81.67, 82.6, 83.59, 84.54, 85.42, 85.89, 86.48, 87.45, 87.86, 88.56, 88.64, 89.08, 89.7, 90.14, 90.44, 90.7, 91.34, 91.39, 91.86, 92.29, 92.45, 92.63, 93.13, 93.19, 93.49, 93.41, 93.84, 94.01, 94.18, 94.63, 94.52, 94.79, 95.04, 95.1, 95.16, 95.52, 95.43, 95.47, 95.69, 95.64, 95.86]\n",
            "[50.84, 59.71, 68.14, 70.97, 76.03, 77.85, 79.89, 81.21, 83.83, 83.83, 84.07, 85.2, 85.48, 86.04, 87.28, 87.28, 87.28, 88.56, 88.56, 88.56, 88.56, 88.56, 88.68, 88.68, 89.37, 89.37, 90.11, 90.11, 90.11, 90.11, 90.47, 90.47, 90.47, 90.53, 91.02, 91.02, 91.08, 91.08, 91.08, 91.08, 91.08, 91.08, 91.08, 91.08, 91.15, 91.42, 91.59, 91.59, 91.59, 91.59]\n"
          ]
        },
        {
          "output_type": "display_data",
          "data": {
            "text/plain": [
              "<Figure size 640x480 with 1 Axes>"
            ],
            "image/png": "[encoded data removed]"
          },
          "metadata": {}
        },
        {
          "output_type": "stream",
          "name": "stdout",
          "text": [
            "Test accuracy: 91.59\n"
          ]
        },
        {
          "output_type": "display_data",
          "data": {
            "text/plain": [
              "<Figure size 640x480 with 0 Axes>"
            ]
          },
          "metadata": {}
        }
      ],
      "source": [
        "import matplotlib.pyplot as plt\n",
        "import matplotlib.ticker as plticker\n",
        "import numpy as np\n",
        "\n",
        "# Generate two arrays for comparison\n",
        "x = np.arange(1, 51) # Array of x values\n",
        "y1 =  train_accuracies\n",
        "y2 = test_accuracies\n",
        "# print(len(y1))\n",
        "# print(len(y2))\n",
        "print(y1)\n",
        "print(y2)\n",
        "\n",
        "# Create the line graph\n",
        "plt.plot(x, y1, label='Train accuracy')\n",
        "plt.plot(x, y2, label='Test accuracy')\n",
        "\n",
        "loc = plticker.MultipleLocator(base=5.0) # this locator puts ticks at regular intervals\n",
        "plt.gca().xaxis.set_major_locator(loc)\n",
        "\n",
        "# Add labels and title\n",
        "plt.xlabel('Epochs')\n",
        "plt.ylabel('Accuracies')\n",
        "plt.title('Test and Train accuracies')\n",
        "\n",
        "# Add a legend\n",
        "plt.legend()\n",
        "\n",
        "# Show the plot\n",
        "plt.show()\n",
        "print('Test accuracy:',test_accuracies[-1])\n",
        "# Save the graph as a PNG image\n",
        "plt.savefig('graph.png')"
      ]
    },
    {
      "cell_type": "code",
      "source": [],
      "metadata": {
        "id": "TrcOjgEGgjTB"
      },
      "execution_count": null,
      "outputs": []
    }
  ],
  "metadata": {
    "accelerator": "GPU",
    "colab": {
      "provenance": []
    },
    "gpuClass": "standard",
    "kernelspec": {
      "display_name": "Python 3",
      "name": "python3"
    },
    "language_info": {
      "name": "python"
    }
  },
  "nbformat": 4,
  "nbformat_minor": 0
}